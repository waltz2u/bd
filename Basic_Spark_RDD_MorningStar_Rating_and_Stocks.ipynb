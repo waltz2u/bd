{
  "nbformat": 4,
  "nbformat_minor": 0,
  "metadata": {
    "colab": {
      "name": "Basic_Spark_RDD_MorningStar_Rating_and_Stocks.ipynb",
      "provenance": [],
      "collapsed_sections": [],
      "include_colab_link": true
    },
    "kernelspec": {
      "name": "python3",
      "display_name": "Python 3"
    }
  },
  "cells": [
    {
      "cell_type": "markdown",
      "metadata": {
        "id": "view-in-github",
        "colab_type": "text"
      },
      "source": [
        "<a href=\"https://colab.research.google.com/github/waltz2u/bd/blob/master/Basic_Spark_RDD_MorningStar_Rating_and_Stocks.ipynb\" target=\"_parent\"><img src=\"https://colab.research.google.com/assets/colab-badge.svg\" alt=\"Open In Colab\"/></a>"
      ]
    },
    {
      "cell_type": "markdown",
      "metadata": {
        "id": "lJeF2BRFeLg6",
        "colab_type": "text"
      },
      "source": [
        "# Basic Spark RDD with  MorningStar Rating and Stock data\n",
        "First mount Google Drive"
      ]
    },
    {
      "cell_type": "code",
      "metadata": {
        "id": "UMht7RcQLFy0",
        "colab_type": "code",
        "outputId": "b44836ad-47cc-4623-c9c7-041efc7cd1b3",
        "colab": {
          "base_uri": "https://localhost:8080/",
          "height": 125
        }
      },
      "source": [
        "from google.colab import drive\n",
        "drive.mount('/content/gdrive')"
      ],
      "execution_count": 11,
      "outputs": [
        {
          "output_type": "stream",
          "text": [
            "Go to this URL in a browser: https://accounts.google.com/o/oauth2/auth?client_id=947318989803-6bn6qk8qdgf4n4g3pfee6491hc0brc4i.apps.googleusercontent.com&redirect_uri=urn%3aietf%3awg%3aoauth%3a2.0%3aoob&response_type=code&scope=email%20https%3a%2f%2fwww.googleapis.com%2fauth%2fdocs.test%20https%3a%2f%2fwww.googleapis.com%2fauth%2fdrive%20https%3a%2f%2fwww.googleapis.com%2fauth%2fdrive.photos.readonly%20https%3a%2f%2fwww.googleapis.com%2fauth%2fpeopleapi.readonly\n",
            "\n",
            "Enter your authorization code:\n",
            "··········\n",
            "Mounted at /content/gdrive\n"
          ],
          "name": "stdout"
        }
      ]
    },
    {
      "cell_type": "markdown",
      "metadata": {
        "id": "_f6k8yTMb4p3",
        "colab_type": "text"
      },
      "source": [
        "## Spark Installation on Google Colab"
      ]
    },
    {
      "cell_type": "markdown",
      "metadata": {
        "id": "amLmrHIzb0QU",
        "colab_type": "text"
      },
      "source": [
        "The following download OpenJDK Java, and Spark, unzip Spark to a directory on Google Drive, and install FindSpark, a library that makes it easy for Python to find Spark."
      ]
    },
    {
      "cell_type": "code",
      "metadata": {
        "id": "M-6vXhEAbuzB",
        "colab_type": "code",
        "colab": {
          "base_uri": "https://localhost:8080/",
          "height": 441
        },
        "outputId": "f56855c1-00a2-4a19-b4f9-7f24895b6399"
      },
      "source": [
        "!apt-get update\n",
        "!apt-get install openjdk-8-jdk-headless -qq > /dev/null\n",
        "!wget -q https://archive.apache.org/dist/spark/spark-2.4.5/spark-2.4.5-bin-hadoop2.7.tgz\n",
        "!tar xf spark-2.4.5-bin-hadoop2.7.tgz\n",
        "!pip install -q findspark"
      ],
      "execution_count": 1,
      "outputs": [
        {
          "output_type": "stream",
          "text": [
            "\r0% [Working]\r            \rHit:1 http://archive.ubuntu.com/ubuntu bionic InRelease\n",
            "Get:2 http://archive.ubuntu.com/ubuntu bionic-updates InRelease [88.7 kB]\n",
            "Get:3 http://ppa.launchpad.net/graphics-drivers/ppa/ubuntu bionic InRelease [21.3 kB]\n",
            "Get:4 http://security.ubuntu.com/ubuntu bionic-security InRelease [88.7 kB]\n",
            "Ign:5 https://developer.download.nvidia.com/compute/cuda/repos/ubuntu1804/x86_64  InRelease\n",
            "Get:6 http://archive.ubuntu.com/ubuntu bionic-backports InRelease [74.6 kB]\n",
            "Get:7 https://cloud.r-project.org/bin/linux/ubuntu bionic-cran35/ InRelease [3,626 B]\n",
            "Ign:8 https://developer.download.nvidia.com/compute/machine-learning/repos/ubuntu1804/x86_64  InRelease\n",
            "Get:9 https://developer.download.nvidia.com/compute/cuda/repos/ubuntu1804/x86_64  Release [564 B]\n",
            "Hit:10 https://developer.download.nvidia.com/compute/machine-learning/repos/ubuntu1804/x86_64  Release\n",
            "Get:11 https://developer.download.nvidia.com/compute/cuda/repos/ubuntu1804/x86_64  Release.gpg [819 B]\n",
            "Get:12 http://ppa.launchpad.net/marutter/c2d4u3.5/ubuntu bionic InRelease [15.4 kB]\n",
            "Get:13 http://archive.ubuntu.com/ubuntu bionic-updates/multiverse amd64 Packages [11.7 kB]\n",
            "Get:14 http://archive.ubuntu.com/ubuntu bionic-updates/main amd64 Packages [1,128 kB]\n",
            "Get:15 http://archive.ubuntu.com/ubuntu bionic-updates/universe amd64 Packages [1,355 kB]\n",
            "Get:16 http://ppa.launchpad.net/graphics-drivers/ppa/ubuntu bionic/main amd64 Packages [37.1 kB]\n",
            "Get:18 https://developer.download.nvidia.com/compute/cuda/repos/ubuntu1804/x86_64  Packages [141 kB]\n",
            "Get:19 http://security.ubuntu.com/ubuntu bionic-security/multiverse amd64 Packages [7,640 B]\n",
            "Get:20 http://security.ubuntu.com/ubuntu bionic-security/main amd64 Packages [836 kB]\n",
            "Get:21 http://ppa.launchpad.net/marutter/c2d4u3.5/ubuntu bionic/main Sources [1,782 kB]\n",
            "Get:22 http://security.ubuntu.com/ubuntu bionic-security/universe amd64 Packages [826 kB]\n",
            "Get:23 http://ppa.launchpad.net/marutter/c2d4u3.5/ubuntu bionic/main amd64 Packages [860 kB]\n",
            "Fetched 7,280 kB in 4s (1,956 kB/s)\n",
            "Reading package lists... Done\n"
          ],
          "name": "stdout"
        }
      ]
    },
    {
      "cell_type": "markdown",
      "metadata": {
        "id": "Gnunlwv4b_MI",
        "colab_type": "text"
      },
      "source": [
        "Take a look at files and directories in the current directory (on Google Drive)"
      ]
    },
    {
      "cell_type": "code",
      "metadata": {
        "id": "pO5OqnYWbu9_",
        "colab_type": "code",
        "colab": {
          "base_uri": "https://localhost:8080/",
          "height": 35
        },
        "outputId": "11a0b260-f870-433b-9e1f-609eb873f760"
      },
      "source": [
        "!ls"
      ],
      "execution_count": 2,
      "outputs": [
        {
          "output_type": "stream",
          "text": [
            "sample_data  spark-2.4.5-bin-hadoop2.7\tspark-2.4.5-bin-hadoop2.7.tgz\n"
          ],
          "name": "stdout"
        }
      ]
    },
    {
      "cell_type": "markdown",
      "metadata": {
        "id": "XuNkrJqYcM60",
        "colab_type": "text"
      },
      "source": [
        "Switch to Java 8 if it is Java 11 now. In the following enter the number that represents the installation of Java 8"
      ]
    },
    {
      "cell_type": "code",
      "metadata": {
        "id": "28Kz645-bvFS",
        "colab_type": "code",
        "colab": {
          "base_uri": "https://localhost:8080/",
          "height": 194
        },
        "outputId": "22caa792-66ff-4352-aa1c-a3d27b1f6fa4"
      },
      "source": [
        "!update-alternatives --config java"
      ],
      "execution_count": 4,
      "outputs": [
        {
          "output_type": "stream",
          "text": [
            "There are 2 choices for the alternative java (providing /usr/bin/java).\n",
            "\n",
            "  Selection    Path                                            Priority   Status\n",
            "------------------------------------------------------------\n",
            "* 0            /usr/lib/jvm/java-11-openjdk-amd64/bin/java      1111      auto mode\n",
            "  1            /usr/lib/jvm/java-11-openjdk-amd64/bin/java      1111      manual mode\n",
            "  2            /usr/lib/jvm/java-8-openjdk-amd64/jre/bin/java   1081      manual mode\n",
            "\n",
            "Press <enter> to keep the current choice[*], or type selection number: 2\n",
            "update-alternatives: using /usr/lib/jvm/java-8-openjdk-amd64/jre/bin/java to provide /usr/bin/java (java) in manual mode\n"
          ],
          "name": "stdout"
        }
      ]
    },
    {
      "cell_type": "code",
      "metadata": {
        "id": "O_voEu-wbvIv",
        "colab_type": "code",
        "colab": {
          "base_uri": "https://localhost:8080/",
          "height": 70
        },
        "outputId": "21269f45-64b0-49de-8e9b-c851e9054b01"
      },
      "source": [
        "!java -version "
      ],
      "execution_count": 5,
      "outputs": [
        {
          "output_type": "stream",
          "text": [
            "openjdk version \"1.8.0_242\"\n",
            "OpenJDK Runtime Environment (build 1.8.0_242-8u242-b08-0ubuntu3~18.04-b08)\n",
            "OpenJDK 64-Bit Server VM (build 25.242-b08, mixed mode)\n"
          ],
          "name": "stdout"
        }
      ]
    },
    {
      "cell_type": "markdown",
      "metadata": {
        "id": "B4xyAgEPcDHE",
        "colab_type": "text"
      },
      "source": [
        "Setting the Environment Variables (home directory) for Java and Spark"
      ]
    },
    {
      "cell_type": "code",
      "metadata": {
        "id": "NLV9WH5lbvCJ",
        "colab_type": "code",
        "colab": {}
      },
      "source": [
        "import os\n",
        "os.environ[\"JAVA_HOME\"] = \"/usr/lib/jvm/java-8-openjdk-amd64\"\n",
        "os.environ[\"SPARK_HOME\"] = \"/content/spark-2.4.5-bin-hadoop2.7\""
      ],
      "execution_count": 0,
      "outputs": []
    },
    {
      "cell_type": "markdown",
      "metadata": {
        "id": "ljTQUYlrc6O1",
        "colab_type": "text"
      },
      "source": [
        "This will start a local Spark session."
      ]
    },
    {
      "cell_type": "code",
      "metadata": {
        "id": "vHNFQMs7LXkS",
        "colab_type": "code",
        "colab": {}
      },
      "source": [
        "import findspark\n",
        "findspark.init(\"/content/spark-2.4.5-bin-hadoop2.7\")\n",
        "from pyspark.sql import SparkSession\n",
        "# Sets the Spark master URL to connect to, such as \"local\" to run locally, \n",
        "# \"local[4]\" to run locally with 4 cores, or \"spark://master:7077\" to run on a Spark standalone cluster.\n",
        "spark = SparkSession.builder.master(\"local[*]\").getOrCreate() #"
      ],
      "execution_count": 0,
      "outputs": []
    },
    {
      "cell_type": "markdown",
      "metadata": {
        "id": "iaisdjb1TV0w",
        "colab_type": "text"
      },
      "source": [
        "## MorningStar Ratings"
      ]
    },
    {
      "cell_type": "markdown",
      "metadata": {
        "id": "cTVeEcdLP82L",
        "colab_type": "text"
      },
      "source": [
        "First read data in"
      ]
    },
    {
      "cell_type": "code",
      "metadata": {
        "id": "WrCtqiIEP_4s",
        "colab_type": "code",
        "outputId": "57805d73-1262-468b-a559-4752bc69e104",
        "colab": {
          "base_uri": "https://localhost:8080/",
          "height": 70
        }
      },
      "source": [
        "lines = spark.sparkContext.textFile(r'/content/gdrive/My Drive/models/morningstar/morningstar.csv')\n",
        "lines.take(3)"
      ],
      "execution_count": 12,
      "outputs": [
        {
          "output_type": "execute_result",
          "data": {
            "text/plain": [
              "['ProFunds Short Precious Metals Inv,SPPIX,NA',\n",
              " 'ProFunds Short Precious Metals Svc,SPPSX,NA',\n",
              " 'ProFunds Biotechnology UltraSector Inv,BIPIX,4']"
            ]
          },
          "metadata": {
            "tags": []
          },
          "execution_count": 12
        }
      ]
    },
    {
      "cell_type": "code",
      "metadata": {
        "id": "e37dGBdqSCvO",
        "colab_type": "code",
        "outputId": "7d0438b7-3a60-4fb2-ff5d-87da1f28883d",
        "colab": {
          "base_uri": "https://localhost:8080/",
          "height": 35
        }
      },
      "source": [
        "ratings = lines.map(lambda x: x.split(',')[2])\n",
        "ratings.take(10)"
      ],
      "execution_count": 13,
      "outputs": [
        {
          "output_type": "execute_result",
          "data": {
            "text/plain": [
              "['NA', 'NA', '4', '3', '5', '5', '4', '4', '4', '4']"
            ]
          },
          "metadata": {
            "tags": []
          },
          "execution_count": 13
        }
      ]
    },
    {
      "cell_type": "code",
      "metadata": {
        "id": "jHwWQDCWWQIa",
        "colab_type": "code",
        "outputId": "427748b0-6082-4d9f-b2ec-0569f54cccc5",
        "colab": {
          "base_uri": "https://localhost:8080/",
          "height": 35
        }
      },
      "source": [
        "result = ratings.countByValue()\n",
        "print(result)"
      ],
      "execution_count": 14,
      "outputs": [
        {
          "output_type": "stream",
          "text": [
            "defaultdict(<class 'int'>, {'NA': 19, '4': 19, '3': 19, '5': 18, '1': 24})\n"
          ],
          "name": "stdout"
        }
      ]
    },
    {
      "cell_type": "code",
      "metadata": {
        "id": "YH69-HrbWhtx",
        "colab_type": "code",
        "outputId": "4c68c54a-9278-469a-c581-5f52c58bf562",
        "colab": {
          "base_uri": "https://localhost:8080/",
          "height": 105
        }
      },
      "source": [
        "import collections\n",
        "sortedCounts = collections.OrderedDict(sorted(result.items()))\n",
        "for key, value in sortedCounts.items():\n",
        "    print (\"%s %i\" % (key, value))"
      ],
      "execution_count": 15,
      "outputs": [
        {
          "output_type": "stream",
          "text": [
            "1 24\n",
            "3 19\n",
            "4 19\n",
            "5 18\n",
            "NA 19\n"
          ],
          "name": "stdout"
        }
      ]
    },
    {
      "cell_type": "markdown",
      "metadata": {
        "id": "P83hB5A0c0j8",
        "colab_type": "text"
      },
      "source": [
        "## Mean Price by Month"
      ]
    },
    {
      "cell_type": "markdown",
      "metadata": {
        "id": "sBQJy9MUc5JN",
        "colab_type": "text"
      },
      "source": [
        "Given date and stock price, returns average price by month"
      ]
    },
    {
      "cell_type": "code",
      "metadata": {
        "id": "kH-RcoHWc3It",
        "colab_type": "code",
        "outputId": "bf26f250-5eae-4214-e6aa-10dc7af82141",
        "colab": {
          "base_uri": "https://localhost:8080/",
          "height": 70
        }
      },
      "source": [
        "# this function gets month, year and adjusted closed price\n",
        "def parseLine(line):\n",
        "    fields = line.split(',')\n",
        "    datetimedata = fields[0]\n",
        "    datetimearray = datetimedata.split('/')\n",
        "    monthyear = datetimearray[0]+datetimearray[2]\n",
        "    adjclose = float(fields[6])\n",
        "    return (monthyear, adjclose)\n",
        "\n",
        "lines = spark.sparkContext.textFile(\"/content/gdrive/My Drive/models/stocks/adjclose.csv\")\n",
        "\n",
        "# lines is an RDD, take some to check\n",
        "lines.take(3)"
      ],
      "execution_count": 16,
      "outputs": [
        {
          "output_type": "execute_result",
          "data": {
            "text/plain": [
              "['1/28/2015,49.799999,50.32,46.299999,46.459999,84839700,46.459999',\n",
              " '1/27/2015,49.139999,49.279999,47.66,47.990002,45777200,47.990002',\n",
              " '1/26/2015,49.57,49.790001,49.07,49.439999,18976400,49.439999']"
            ]
          },
          "metadata": {
            "tags": []
          },
          "execution_count": 16
        }
      ]
    },
    {
      "cell_type": "code",
      "metadata": {
        "id": "cK3YxePMdURR",
        "colab_type": "code",
        "outputId": "8a7b7899-d0ec-4bfc-8dde-a0c996c2f735",
        "colab": {
          "base_uri": "https://localhost:8080/",
          "height": 35
        }
      },
      "source": [
        "# gets month, year and adjusted closed price\n",
        "rdd = lines.map(parseLine)\n",
        "rdd.take(3)"
      ],
      "execution_count": 17,
      "outputs": [
        {
          "output_type": "execute_result",
          "data": {
            "text/plain": [
              "[('12015', 46.459999), ('12015', 47.990002), ('12015', 49.439999)]"
            ]
          },
          "metadata": {
            "tags": []
          },
          "execution_count": 17
        }
      ]
    },
    {
      "cell_type": "code",
      "metadata": {
        "id": "DkhKUYZYdX66",
        "colab_type": "code",
        "outputId": "c332bc84-1ea1-4e94-9eef-603f51bc03e5",
        "colab": {
          "base_uri": "https://localhost:8080/",
          "height": 70
        }
      },
      "source": [
        "# mapValues to gets a tuple of (adjusted price, 1) for each month\n",
        "rdd.mapValues(lambda x: (x, 1)).take(3)"
      ],
      "execution_count": 18,
      "outputs": [
        {
          "output_type": "execute_result",
          "data": {
            "text/plain": [
              "[('12015', (46.459999, 1)),\n",
              " ('12015', (47.990002, 1)),\n",
              " ('12015', (49.439999, 1))]"
            ]
          },
          "metadata": {
            "tags": []
          },
          "execution_count": 18
        }
      ]
    },
    {
      "cell_type": "code",
      "metadata": {
        "id": "ducdNMpLdaFy",
        "colab_type": "code",
        "outputId": "f4e3dc71-5c99-4532-fa2d-b36cf279f427",
        "colab": {
          "base_uri": "https://localhost:8080/",
          "height": 70
        }
      },
      "source": [
        "# then add tuples together using reduceByKey\n",
        "priceByMonthYear = rdd.mapValues(lambda x: (x, 1)).reduceByKey(lambda x, y: (x[0] + y[0], x[1] + y[1]))\n",
        "priceByMonthYear.take(3)"
      ],
      "execution_count": 19,
      "outputs": [
        {
          "output_type": "execute_result",
          "data": {
            "text/plain": [
              "[('12015', (871.899997, 18)),\n",
              " ('112014', (952.880004, 19)),\n",
              " ('92014', (854.119997, 21))]"
            ]
          },
          "metadata": {
            "tags": []
          },
          "execution_count": 19
        }
      ]
    },
    {
      "cell_type": "code",
      "metadata": {
        "id": "A53oKtFcdcnE",
        "colab_type": "code",
        "outputId": "bf4dab3f-2435-4f8e-92ae-44ffb1ece065",
        "colab": {
          "base_uri": "https://localhost:8080/",
          "height": 1000
        }
      },
      "source": [
        "# then finally mapValues to calculate average price \n",
        "averagesByMonthYear = priceByMonthYear.mapValues(lambda x: x[0] / x[1])\n",
        "results = averagesByMonthYear.collect()\n",
        "for result in results:\n",
        "    print (result)"
      ],
      "execution_count": 20,
      "outputs": [
        {
          "output_type": "stream",
          "text": [
            "('12015', 48.438888722222224)\n",
            "('112014', 50.15157915789474)\n",
            "('92014', 40.67238080952381)\n",
            "('82014', 36.87619052380952)\n",
            "('72014', 35.097272409090905)\n",
            "('32014', 37.71476223809524)\n",
            "('22014', 37.43578963157895)\n",
            "('82013', 27.525454454545457)\n",
            "('72013', 27.304545590909093)\n",
            "('62013', 25.911499999999997)\n",
            "('52013', 26.159545227272723)\n",
            "('12013', 19.815714523809525)\n",
            "('102012', 16.12428576190476)\n",
            "('82012', 15.226086956521744)\n",
            "('72012', 15.77476195238095)\n",
            "('52012', 15.358181818181817)\n",
            "('42012', 15.253499999999997)\n",
            "('22012', 15.371500000000003)\n",
            "('122011', 15.678571333333334)\n",
            "('72011', 14.505)\n",
            "('62011', 15.178181818181816)\n",
            "('52011', 16.98523780952381)\n",
            "('32011', 16.660869608695652)\n",
            "('12011', 16.42199995)\n",
            "('112010', 16.419523761904763)\n",
            "('82010', 13.796363636363639)\n",
            "('72010', 14.474761904761904)\n",
            "('52010', 15.935499949999999)\n",
            "('32010', 16.303913260869564)\n",
            "('22010', 15.268947368421053)\n",
            "('102009', 16.94318168181818)\n",
            "('92009', 16.150952285714283)\n",
            "('82009', 14.75095238095238)\n",
            "('122014', 50.34045431818181)\n",
            "('102014', 41.39391286956522)\n",
            "('62014', 34.958571333333325)\n",
            "('52014', 34.76428557142857)\n",
            "('42014', 35.00238119047619)\n",
            "('12014', 39.2552378095238)\n",
            "('122013', 39.51238090476191)\n",
            "('112013', 34.82449995)\n",
            "('102013', 33.45304330434782)\n",
            "('92013', 30.171500100000003)\n",
            "('42013', 24.022272863636363)\n",
            "('32013', 22.716000199999996)\n",
            "('22013', 20.689999894736843)\n",
            "('122012', 19.413000049999997)\n",
            "('112012', 17.97761919047619)\n",
            "('92012', 15.560000052631578)\n",
            "('62012', 15.420476190476192)\n",
            "('32012', 15.002727272727277)\n",
            "('12012', 15.6760001)\n",
            "('112011', 15.508571428571432)\n",
            "('102011', 15.801428428571425)\n",
            "('92011', 14.10904761904762)\n",
            "('82011', 12.88695652173913)\n",
            "('42011', 16.8795004)\n",
            "('22011', 16.830000105263156)\n",
            "('122010', 16.585909136363632)\n",
            "('102010', 15.444761809523808)\n",
            "('92010', 13.94047619047619)\n",
            "('62010', 15.030454545454544)\n",
            "('42010', 17.473333095238097)\n",
            "('12010', 16.455263315789477)\n",
            "('122009', 15.916363545454544)\n",
            "('112009', 15.7105)\n",
            "('72009', 15.763181909090912)\n",
            "('62009', 15.957272772727272)\n",
            "('52009', 14.95)\n",
            "('42009', 14.212142857142856)\n"
          ],
          "name": "stdout"
        }
      ]
    }
  ]
}