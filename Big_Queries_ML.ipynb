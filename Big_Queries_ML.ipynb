{
  "nbformat": 4,
  "nbformat_minor": 0,
  "metadata": {
    "colab": {
      "name": "Getting started with BigQuery",
      "provenance": [],
      "collapsed_sections": [],
      "include_colab_link": true
    },
    "kernelspec": {
      "display_name": "Python 3",
      "name": "python3"
    }
  },
  "cells": [
    {
      "cell_type": "markdown",
      "metadata": {
        "id": "view-in-github",
        "colab_type": "text"
      },
      "source": [
        "<a href=\"https://colab.research.google.com/github/waltz2u/bd/blob/master/Big_Queries_ML.ipynb\" target=\"_parent\"><img src=\"https://colab.research.google.com/assets/colab-badge.svg\" alt=\"Open In Colab\"/></a>"
      ]
    },
    {
      "cell_type": "markdown",
      "metadata": {
        "colab_type": "text",
        "id": "KcAZ2RHCg_Ze"
      },
      "source": [
        "# Before you begin\n",
        "\n",
        "\n",
        "1.   Use the [Cloud Resource Manager](https://console.cloud.google.com/cloud-resource-manager) to Create a Cloud Platform project if you do not already have one.\n",
        "2.   [Enable billing](https://support.google.com/cloud/answer/6293499#enable-billing) for the project.\n",
        "3.   [Enable BigQuery](https://console.cloud.google.com/flows/enableapi?apiid=bigquery) APIs for the project.\n"
      ]
    },
    {
      "cell_type": "markdown",
      "metadata": {
        "colab_type": "text",
        "id": "qTmLBxDxBAZL"
      },
      "source": [
        "### Provide your credentials to the runtime"
      ]
    },
    {
      "cell_type": "code",
      "metadata": {
        "colab_type": "code",
        "id": "SeTJb51SKs_W",
        "colab": {
          "base_uri": "https://localhost:8080/",
          "height": 34
        },
        "outputId": "8c134184-42b7-4921-9c11-5c2e967a588a"
      },
      "source": [
        "from google.colab import auth\n",
        "auth.authenticate_user()\n",
        "print('Authenticated')"
      ],
      "execution_count": 28,
      "outputs": [
        {
          "output_type": "stream",
          "text": [
            "Authenticated\n"
          ],
          "name": "stdout"
        }
      ]
    },
    {
      "cell_type": "markdown",
      "metadata": {
        "colab_type": "text",
        "id": "UMKGkkZEPVRu"
      },
      "source": [
        "## Optional: Enable data table display\n",
        "\n",
        "Colab includes the ``google.colab.data_table`` package that can be used to display large pandas dataframes as an interactive data table.\n",
        "It can be enabled with:"
      ]
    },
    {
      "cell_type": "code",
      "metadata": {
        "colab_type": "code",
        "id": "LMNA-vBHPyHz",
        "colab": {}
      },
      "source": [
        "%load_ext google.colab.data_table"
      ],
      "execution_count": 0,
      "outputs": []
    },
    {
      "cell_type": "markdown",
      "metadata": {
        "colab_type": "text",
        "id": "y7QuudxdP0jH"
      },
      "source": [
        "If you would prefer to return to the classic Pandas dataframe display, you can disable this by running:\n",
        "```python\n",
        "%unload_ext google.colab.data_table\n",
        "```"
      ]
    },
    {
      "cell_type": "markdown",
      "metadata": {
        "colab_type": "text",
        "id": "OHCBQv4uTCPc"
      },
      "source": [
        "# Use BigQuery via magics\n",
        "\n",
        "The `google.cloud.bigquery` library also includes a magic command which runs a query and either displays the result or saves it to a variable as a `DataFrame`."
      ]
    },
    {
      "cell_type": "code",
      "metadata": {
        "colab_type": "code",
        "id": "DMxOKQ3vJplj",
        "outputId": "fcd9445b-cdc3-4b6c-8b93-099806e42dd4",
        "colab": {
          "base_uri": "https://localhost:8080/",
          "height": 108
        }
      },
      "source": [
        "# Display query output immediately\n",
        "\n",
        "%%bigquery --project bigquery-207917\n",
        "SELECT \n",
        "  COUNT(*) as total_rows\n",
        "FROM `bigquery-public-data.samples.gsod`"
      ],
      "execution_count": 31,
      "outputs": [
        {
          "output_type": "execute_result",
          "data": {
            "application/vnd.google.colaboratory.module+javascript": "\n      import \"https://ssl.gstatic.com/colaboratory/data_table/9e554b27bdd509f3/data_table.js\";\n\n      window.createDataTable({\n        data: [[{\n            'v': 0,\n            'f': \"0\",\n        },\n{\n            'v': 114420316,\n            'f': \"114420316\",\n        }]],\n        columns: [[\"number\", \"index\"], [\"number\", \"total_rows\"]],\n        columnOptions: [{\"width\": \"1px\", \"className\": \"index_column\"}],\n        rowsPerPage: 25,\n        helpUrl: \"https://colab.research.google.com/notebooks/data_table.ipynb\",\n      });\n    ",
            "text/html": [
              "<div>\n",
              "<style scoped>\n",
              "    .dataframe tbody tr th:only-of-type {\n",
              "        vertical-align: middle;\n",
              "    }\n",
              "\n",
              "    .dataframe tbody tr th {\n",
              "        vertical-align: top;\n",
              "    }\n",
              "\n",
              "    .dataframe thead th {\n",
              "        text-align: right;\n",
              "    }\n",
              "</style>\n",
              "<table border=\"1\" class=\"dataframe\">\n",
              "  <thead>\n",
              "    <tr style=\"text-align: right;\">\n",
              "      <th></th>\n",
              "      <th>total_rows</th>\n",
              "    </tr>\n",
              "  </thead>\n",
              "  <tbody>\n",
              "    <tr>\n",
              "      <th>0</th>\n",
              "      <td>114420316</td>\n",
              "    </tr>\n",
              "  </tbody>\n",
              "</table>\n",
              "</div>"
            ],
            "text/plain": [
              "   total_rows\n",
              "0   114420316"
            ]
          },
          "metadata": {
            "tags": []
          },
          "execution_count": 31
        }
      ]
    },
    {
      "cell_type": "code",
      "metadata": {
        "colab_type": "code",
        "id": "cLh05lDpJ4wj",
        "colab": {}
      },
      "source": [
        "# Save output in a variable `df`\n",
        "\n",
        "%%bigquery --project bigquery-207917 df\n",
        "SELECT \n",
        "  COUNT(*) as total_rows\n",
        "FROM `bigquery-public-data.samples.gsod`"
      ],
      "execution_count": 0,
      "outputs": []
    },
    {
      "cell_type": "code",
      "metadata": {
        "colab_type": "code",
        "id": "xgopBClCKs_0",
        "outputId": "cd645873-f3f1-413a-95ef-2b32c4928460",
        "colab": {
          "base_uri": "https://localhost:8080/",
          "height": 110
        }
      },
      "source": [
        "df"
      ],
      "execution_count": 0,
      "outputs": [
        {
          "output_type": "execute_result",
          "data": {
            "application/vnd.google.colaboratory.module+javascript": "\n      import \"https://ssl.gstatic.com/colaboratory/data_table/a036b366c3cace79/data_table.js\";\n\n      window.createDataTable({\n        data: [[{\n            'v': 0,\n            'f': \"0\",\n        },\n{\n            'v': 114420316,\n            'f': \"114420316\",\n        }]],\n        columns: [[\"number\", \"index\"], [\"number\", \"total_rows\"]],\n        rowsPerPage: 25,\n        helpUrl: \"https://colab.research.google.com/notebooks/data_table.ipynb\",\n      });\n    ",
            "text/html": [
              "<div>\n",
              "<style scoped>\n",
              "    .dataframe tbody tr th:only-of-type {\n",
              "        vertical-align: middle;\n",
              "    }\n",
              "\n",
              "    .dataframe tbody tr th {\n",
              "        vertical-align: top;\n",
              "    }\n",
              "\n",
              "    .dataframe thead th {\n",
              "        text-align: right;\n",
              "    }\n",
              "</style>\n",
              "<table border=\"1\" class=\"dataframe\">\n",
              "  <thead>\n",
              "    <tr style=\"text-align: right;\">\n",
              "      <th></th>\n",
              "      <th>total_rows</th>\n",
              "    </tr>\n",
              "  </thead>\n",
              "  <tbody>\n",
              "    <tr>\n",
              "      <th>0</th>\n",
              "      <td>114420316</td>\n",
              "    </tr>\n",
              "  </tbody>\n",
              "</table>\n",
              "</div>"
            ],
            "text/plain": [
              "   total_rows\n",
              "0   114420316"
            ]
          },
          "metadata": {
            "tags": []
          },
          "execution_count": 0
        }
      ]
    },
    {
      "cell_type": "code",
      "metadata": {
        "id": "WPelTVLFyyAb",
        "colab_type": "code",
        "colab": {
          "base_uri": "https://localhost:8080/",
          "height": 87
        },
        "outputId": "970cf681-7e79-41be-d285-ec62017f48d5"
      },
      "source": [
        "#standardSQL\n",
        "%%bigquery --project bigquery-207917\n",
        "\n",
        "CREATE OR REPLACE MODEL `mydata.sample_model` \n",
        "OPTIONS(model_type='logistic_reg') AS\n",
        "SELECT\n",
        "  IF(totals.transactions IS NULL, 0, 1) AS label,\n",
        "  IFNULL(device.operatingSystem, \"\") AS os,\n",
        "  device.isMobile AS is_mobile,\n",
        "  IFNULL(geoNetwork.country, \"\") AS country,\n",
        "  IFNULL(totals.pageviews, 0) AS pageviews\n",
        "FROM\n",
        "  `bigquery-public-data.google_analytics_sample.ga_sessions_*`\n",
        "WHERE\n",
        "  _TABLE_SUFFIX BETWEEN '20160801' AND '20170631'\n",
        "LIMIT 100000;"
      ],
      "execution_count": 56,
      "outputs": [
        {
          "output_type": "execute_result",
          "data": {
            "application/vnd.google.colaboratory.module+javascript": "\n      import \"https://ssl.gstatic.com/colaboratory/data_table/9e554b27bdd509f3/data_table.js\";\n\n      window.createDataTable({\n        data: [],\n        columns: [[\"number\", \"index\"]],\n        columnOptions: [{\"width\": \"1px\", \"className\": \"index_column\"}],\n        rowsPerPage: 25,\n        helpUrl: \"https://colab.research.google.com/notebooks/data_table.ipynb\",\n      });\n    ",
            "text/html": [
              "<div>\n",
              "<style scoped>\n",
              "    .dataframe tbody tr th:only-of-type {\n",
              "        vertical-align: middle;\n",
              "    }\n",
              "\n",
              "    .dataframe tbody tr th {\n",
              "        vertical-align: top;\n",
              "    }\n",
              "\n",
              "    .dataframe thead th {\n",
              "        text-align: right;\n",
              "    }\n",
              "</style>\n",
              "<table border=\"1\" class=\"dataframe\">\n",
              "  <thead>\n",
              "    <tr style=\"text-align: right;\">\n",
              "      <th></th>\n",
              "    </tr>\n",
              "  </thead>\n",
              "  <tbody>\n",
              "  </tbody>\n",
              "</table>\n",
              "</div>"
            ],
            "text/plain": [
              "Empty DataFrame\n",
              "Columns: []\n",
              "Index: []"
            ]
          },
          "metadata": {
            "tags": []
          },
          "execution_count": 56
        }
      ]
    },
    {
      "cell_type": "code",
      "metadata": {
        "id": "YuAxOqbLB7Xz",
        "colab_type": "code",
        "colab": {
          "base_uri": "https://localhost:8080/",
          "height": 108
        },
        "outputId": "6676405f-2659-4b88-f763-d43841c8caaf"
      },
      "source": [
        "%%bigquery --project bigquery-207917\n",
        "\n",
        "#standardSQL\n",
        "SELECT\n",
        "  *\n",
        "FROM\n",
        "  ml.EVALUATE(MODEL `mydata.sample_model`, (\n",
        "SELECT\n",
        "  IF(totals.transactions IS NULL, 0, 1) AS label,\n",
        "  IFNULL(device.operatingSystem, \"\") AS os,\n",
        "  device.isMobile AS is_mobile,\n",
        "  IFNULL(geoNetwork.country, \"\") AS country,\n",
        "  IFNULL(totals.pageviews, 0) AS pageviews\n",
        "FROM\n",
        "  `bigquery-public-data.google_analytics_sample.ga_sessions_*`\n",
        "WHERE\n",
        "  _TABLE_SUFFIX BETWEEN '20170701' AND '20170801'));"
      ],
      "execution_count": 58,
      "outputs": [
        {
          "output_type": "execute_result",
          "data": {
            "application/vnd.google.colaboratory.module+javascript": "\n      import \"https://ssl.gstatic.com/colaboratory/data_table/9e554b27bdd509f3/data_table.js\";\n\n      window.createDataTable({\n        data: [[{\n            'v': 0,\n            'f': \"0\",\n        },\n{\n            'v': 0.441340782122905,\n            'f': \"0.441340782122905\",\n        },\n{\n            'v': 0.07355679702048418,\n            'f': \"0.07355679702048418\",\n        },\n{\n            'v': 0.9852759251290878,\n            'f': \"0.9852759251290878\",\n        },\n{\n            'v': 0.12609736632083002,\n            'f': \"0.12609736632083002\",\n        },\n{\n            'v': 0.047859881060950765,\n            'f': \"0.047859881060950765\",\n        },\n{\n            'v': 0.983109,\n            'f': \"0.983109\",\n        }]],\n        columns: [[\"number\", \"index\"], [\"number\", \"precision\"], [\"number\", \"recall\"], [\"number\", \"accuracy\"], [\"number\", \"f1_score\"], [\"number\", \"log_loss\"], [\"number\", \"roc_auc\"]],\n        columnOptions: [{\"width\": \"1px\", \"className\": \"index_column\"}],\n        rowsPerPage: 25,\n        helpUrl: \"https://colab.research.google.com/notebooks/data_table.ipynb\",\n      });\n    ",
            "text/html": [
              "<div>\n",
              "<style scoped>\n",
              "    .dataframe tbody tr th:only-of-type {\n",
              "        vertical-align: middle;\n",
              "    }\n",
              "\n",
              "    .dataframe tbody tr th {\n",
              "        vertical-align: top;\n",
              "    }\n",
              "\n",
              "    .dataframe thead th {\n",
              "        text-align: right;\n",
              "    }\n",
              "</style>\n",
              "<table border=\"1\" class=\"dataframe\">\n",
              "  <thead>\n",
              "    <tr style=\"text-align: right;\">\n",
              "      <th></th>\n",
              "      <th>precision</th>\n",
              "      <th>recall</th>\n",
              "      <th>accuracy</th>\n",
              "      <th>f1_score</th>\n",
              "      <th>log_loss</th>\n",
              "      <th>roc_auc</th>\n",
              "    </tr>\n",
              "  </thead>\n",
              "  <tbody>\n",
              "    <tr>\n",
              "      <th>0</th>\n",
              "      <td>0.441341</td>\n",
              "      <td>0.073557</td>\n",
              "      <td>0.985276</td>\n",
              "      <td>0.126097</td>\n",
              "      <td>0.04786</td>\n",
              "      <td>0.983109</td>\n",
              "    </tr>\n",
              "  </tbody>\n",
              "</table>\n",
              "</div>"
            ],
            "text/plain": [
              "   precision    recall  accuracy  f1_score  log_loss   roc_auc\n",
              "0   0.441341  0.073557  0.985276  0.126097   0.04786  0.983109"
            ]
          },
          "metadata": {
            "tags": []
          },
          "execution_count": 58
        }
      ]
    },
    {
      "cell_type": "code",
      "metadata": {
        "id": "8-Fq6-BNCMOv",
        "colab_type": "code",
        "colab": {
          "base_uri": "https://localhost:8080/",
          "height": 293
        },
        "outputId": "ca5d52e7-23b7-4f39-886b-896ef5b04ba9"
      },
      "source": [
        "%%bigquery --project bigquery-207917\n",
        "\n",
        "#standardSQL\n",
        "SELECT\n",
        "  country,\n",
        "  SUM(predicted_label) as total_predicted_purchases\n",
        "FROM\n",
        "  ml.PREDICT(MODEL `mydata.sample_model`, (\n",
        "SELECT\n",
        "  IFNULL(device.operatingSystem, \"\") AS os,\n",
        "  device.isMobile AS is_mobile,\n",
        "  IFNULL(totals.pageviews, 0) AS pageviews,\n",
        "  IFNULL(geoNetwork.country, \"\") AS country\n",
        "FROM\n",
        "  `bigquery-public-data.google_analytics_sample.ga_sessions_*`\n",
        "WHERE\n",
        "  _TABLE_SUFFIX BETWEEN '20170701' AND '20170801'))\n",
        "GROUP BY country\n",
        "ORDER BY total_predicted_purchases DESC\n",
        "LIMIT 10;"
      ],
      "execution_count": 60,
      "outputs": [
        {
          "output_type": "execute_result",
          "data": {
            "application/vnd.google.colaboratory.module+javascript": "\n      import \"https://ssl.gstatic.com/colaboratory/data_table/9e554b27bdd509f3/data_table.js\";\n\n      window.createDataTable({\n        data: [[{\n            'v': 0,\n            'f': \"0\",\n        },\n\"United States\",\n{\n            'v': 152,\n            'f': \"152\",\n        }],\n [{\n            'v': 1,\n            'f': \"1\",\n        },\n\"Taiwan\",\n{\n            'v': 6,\n            'f': \"6\",\n        }],\n [{\n            'v': 2,\n            'f': \"2\",\n        },\n\"Canada\",\n{\n            'v': 4,\n            'f': \"4\",\n        }],\n [{\n            'v': 3,\n            'f': \"3\",\n        },\n\"Japan\",\n{\n            'v': 2,\n            'f': \"2\",\n        }],\n [{\n            'v': 4,\n            'f': \"4\",\n        },\n\"Turkey\",\n{\n            'v': 2,\n            'f': \"2\",\n        }],\n [{\n            'v': 5,\n            'f': \"5\",\n        },\n\"India\",\n{\n            'v': 2,\n            'f': \"2\",\n        }],\n [{\n            'v': 6,\n            'f': \"6\",\n        },\n\"Venezuela\",\n{\n            'v': 1,\n            'f': \"1\",\n        }],\n [{\n            'v': 7,\n            'f': \"7\",\n        },\n\"St. Lucia\",\n{\n            'v': 1,\n            'f': \"1\",\n        }],\n [{\n            'v': 8,\n            'f': \"8\",\n        },\n\"Guyana\",\n{\n            'v': 1,\n            'f': \"1\",\n        }],\n [{\n            'v': 9,\n            'f': \"9\",\n        },\n\"Australia\",\n{\n            'v': 1,\n            'f': \"1\",\n        }]],\n        columns: [[\"number\", \"index\"], [\"string\", \"country\"], [\"number\", \"total_predicted_purchases\"]],\n        columnOptions: [{\"width\": \"1px\", \"className\": \"index_column\"}],\n        rowsPerPage: 25,\n        helpUrl: \"https://colab.research.google.com/notebooks/data_table.ipynb\",\n      });\n    ",
            "text/html": [
              "<div>\n",
              "<style scoped>\n",
              "    .dataframe tbody tr th:only-of-type {\n",
              "        vertical-align: middle;\n",
              "    }\n",
              "\n",
              "    .dataframe tbody tr th {\n",
              "        vertical-align: top;\n",
              "    }\n",
              "\n",
              "    .dataframe thead th {\n",
              "        text-align: right;\n",
              "    }\n",
              "</style>\n",
              "<table border=\"1\" class=\"dataframe\">\n",
              "  <thead>\n",
              "    <tr style=\"text-align: right;\">\n",
              "      <th></th>\n",
              "      <th>country</th>\n",
              "      <th>total_predicted_purchases</th>\n",
              "    </tr>\n",
              "  </thead>\n",
              "  <tbody>\n",
              "    <tr>\n",
              "      <th>0</th>\n",
              "      <td>United States</td>\n",
              "      <td>152</td>\n",
              "    </tr>\n",
              "    <tr>\n",
              "      <th>1</th>\n",
              "      <td>Taiwan</td>\n",
              "      <td>6</td>\n",
              "    </tr>\n",
              "    <tr>\n",
              "      <th>2</th>\n",
              "      <td>Canada</td>\n",
              "      <td>4</td>\n",
              "    </tr>\n",
              "    <tr>\n",
              "      <th>3</th>\n",
              "      <td>Japan</td>\n",
              "      <td>2</td>\n",
              "    </tr>\n",
              "    <tr>\n",
              "      <th>4</th>\n",
              "      <td>Turkey</td>\n",
              "      <td>2</td>\n",
              "    </tr>\n",
              "    <tr>\n",
              "      <th>5</th>\n",
              "      <td>India</td>\n",
              "      <td>2</td>\n",
              "    </tr>\n",
              "    <tr>\n",
              "      <th>6</th>\n",
              "      <td>Venezuela</td>\n",
              "      <td>1</td>\n",
              "    </tr>\n",
              "    <tr>\n",
              "      <th>7</th>\n",
              "      <td>St. Lucia</td>\n",
              "      <td>1</td>\n",
              "    </tr>\n",
              "    <tr>\n",
              "      <th>8</th>\n",
              "      <td>Guyana</td>\n",
              "      <td>1</td>\n",
              "    </tr>\n",
              "    <tr>\n",
              "      <th>9</th>\n",
              "      <td>Australia</td>\n",
              "      <td>1</td>\n",
              "    </tr>\n",
              "  </tbody>\n",
              "</table>\n",
              "</div>"
            ],
            "text/plain": [
              "         country  total_predicted_purchases\n",
              "0  United States                        152\n",
              "1         Taiwan                          6\n",
              "2         Canada                          4\n",
              "3          Japan                          2\n",
              "4         Turkey                          2\n",
              "5          India                          2\n",
              "6      Venezuela                          1\n",
              "7      St. Lucia                          1\n",
              "8         Guyana                          1\n",
              "9      Australia                          1"
            ]
          },
          "metadata": {
            "tags": []
          },
          "execution_count": 60
        }
      ]
    },
    {
      "cell_type": "code",
      "metadata": {
        "id": "SQWxCx9iCfy0",
        "colab_type": "code",
        "colab": {
          "base_uri": "https://localhost:8080/",
          "height": 293
        },
        "outputId": "bc9ea60d-61c4-4c23-cb3f-1862e59b7d6a"
      },
      "source": [
        "%%bigquery --project bigquery-207917\n",
        "\n",
        "#standardSQL\n",
        "SELECT\n",
        "  fullVisitorId,\n",
        "  SUM(predicted_label) as total_predicted_purchases\n",
        "FROM\n",
        "  ml.PREDICT(MODEL `mydata.sample_model`, (\n",
        "SELECT\n",
        "  IFNULL(device.operatingSystem, \"\") AS os,\n",
        "  device.isMobile AS is_mobile,\n",
        "  IFNULL(totals.pageviews, 0) AS pageviews,\n",
        "  IFNULL(geoNetwork.country, \"\") AS country,\n",
        "  fullVisitorId\n",
        "FROM\n",
        "  `bigquery-public-data.google_analytics_sample.ga_sessions_*`\n",
        "WHERE\n",
        "  _TABLE_SUFFIX BETWEEN '20170701' AND '20170801'))\n",
        "GROUP BY fullVisitorId\n",
        "ORDER BY total_predicted_purchases DESC\n",
        "LIMIT 10;"
      ],
      "execution_count": 62,
      "outputs": [
        {
          "output_type": "execute_result",
          "data": {
            "application/vnd.google.colaboratory.module+javascript": "\n      import \"https://ssl.gstatic.com/colaboratory/data_table/9e554b27bdd509f3/data_table.js\";\n\n      window.createDataTable({\n        data: [[{\n            'v': 0,\n            'f': \"0\",\n        },\n\"9417857471295131045\",\n{\n            'v': 3,\n            'f': \"3\",\n        }],\n [{\n            'v': 1,\n            'f': \"1\",\n        },\n\"8388931032955052746\",\n{\n            'v': 2,\n            'f': \"2\",\n        }],\n [{\n            'v': 2,\n            'f': \"2\",\n        },\n\"2969418676126258798\",\n{\n            'v': 2,\n            'f': \"2\",\n        }],\n [{\n            'v': 3,\n            'f': \"3\",\n        },\n\"057693500927581077\",\n{\n            'v': 2,\n            'f': \"2\",\n        }],\n [{\n            'v': 4,\n            'f': \"4\",\n        },\n\"7420300501523012460\",\n{\n            'v': 2,\n            'f': \"2\",\n        }],\n [{\n            'v': 5,\n            'f': \"5\",\n        },\n\"0376394056092189113\",\n{\n            'v': 2,\n            'f': \"2\",\n        }],\n [{\n            'v': 6,\n            'f': \"6\",\n        },\n\"1280993661204347450\",\n{\n            'v': 2,\n            'f': \"2\",\n        }],\n [{\n            'v': 7,\n            'f': \"7\",\n        },\n\"806992249032686650\",\n{\n            'v': 2,\n            'f': \"2\",\n        }],\n [{\n            'v': 8,\n            'f': \"8\",\n        },\n\"112288330928895942\",\n{\n            'v': 2,\n            'f': \"2\",\n        }],\n [{\n            'v': 9,\n            'f': \"9\",\n        },\n\"4602383891226401804\",\n{\n            'v': 1,\n            'f': \"1\",\n        }]],\n        columns: [[\"number\", \"index\"], [\"string\", \"fullVisitorId\"], [\"number\", \"total_predicted_purchases\"]],\n        columnOptions: [{\"width\": \"1px\", \"className\": \"index_column\"}],\n        rowsPerPage: 25,\n        helpUrl: \"https://colab.research.google.com/notebooks/data_table.ipynb\",\n      });\n    ",
            "text/html": [
              "<div>\n",
              "<style scoped>\n",
              "    .dataframe tbody tr th:only-of-type {\n",
              "        vertical-align: middle;\n",
              "    }\n",
              "\n",
              "    .dataframe tbody tr th {\n",
              "        vertical-align: top;\n",
              "    }\n",
              "\n",
              "    .dataframe thead th {\n",
              "        text-align: right;\n",
              "    }\n",
              "</style>\n",
              "<table border=\"1\" class=\"dataframe\">\n",
              "  <thead>\n",
              "    <tr style=\"text-align: right;\">\n",
              "      <th></th>\n",
              "      <th>fullVisitorId</th>\n",
              "      <th>total_predicted_purchases</th>\n",
              "    </tr>\n",
              "  </thead>\n",
              "  <tbody>\n",
              "    <tr>\n",
              "      <th>0</th>\n",
              "      <td>9417857471295131045</td>\n",
              "      <td>3</td>\n",
              "    </tr>\n",
              "    <tr>\n",
              "      <th>1</th>\n",
              "      <td>8388931032955052746</td>\n",
              "      <td>2</td>\n",
              "    </tr>\n",
              "    <tr>\n",
              "      <th>2</th>\n",
              "      <td>2969418676126258798</td>\n",
              "      <td>2</td>\n",
              "    </tr>\n",
              "    <tr>\n",
              "      <th>3</th>\n",
              "      <td>057693500927581077</td>\n",
              "      <td>2</td>\n",
              "    </tr>\n",
              "    <tr>\n",
              "      <th>4</th>\n",
              "      <td>7420300501523012460</td>\n",
              "      <td>2</td>\n",
              "    </tr>\n",
              "    <tr>\n",
              "      <th>5</th>\n",
              "      <td>0376394056092189113</td>\n",
              "      <td>2</td>\n",
              "    </tr>\n",
              "    <tr>\n",
              "      <th>6</th>\n",
              "      <td>1280993661204347450</td>\n",
              "      <td>2</td>\n",
              "    </tr>\n",
              "    <tr>\n",
              "      <th>7</th>\n",
              "      <td>806992249032686650</td>\n",
              "      <td>2</td>\n",
              "    </tr>\n",
              "    <tr>\n",
              "      <th>8</th>\n",
              "      <td>112288330928895942</td>\n",
              "      <td>2</td>\n",
              "    </tr>\n",
              "    <tr>\n",
              "      <th>9</th>\n",
              "      <td>4602383891226401804</td>\n",
              "      <td>1</td>\n",
              "    </tr>\n",
              "  </tbody>\n",
              "</table>\n",
              "</div>"
            ],
            "text/plain": [
              "         fullVisitorId  total_predicted_purchases\n",
              "0  9417857471295131045                          3\n",
              "1  8388931032955052746                          2\n",
              "2  2969418676126258798                          2\n",
              "3   057693500927581077                          2\n",
              "4  7420300501523012460                          2\n",
              "5  0376394056092189113                          2\n",
              "6  1280993661204347450                          2\n",
              "7   806992249032686650                          2\n",
              "8   112288330928895942                          2\n",
              "9  4602383891226401804                          1"
            ]
          },
          "metadata": {
            "tags": []
          },
          "execution_count": 62
        }
      ]
    }
  ]
}