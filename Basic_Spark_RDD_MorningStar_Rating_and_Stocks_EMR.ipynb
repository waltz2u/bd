{
  "nbformat": 4,
  "nbformat_minor": 0,
  "metadata": {
    "kernelspec": {
      "display_name": "PySpark",
      "language": "",
      "name": "pysparkkernel"
    },
    "language_info": {
      "codemirror_mode": {
        "name": "python",
        "version": 2
      },
      "mimetype": "text/x-python",
      "name": "pyspark",
      "pygments_lexer": "python2"
    },
    "colab": {
      "name": "Basic_Spark_RDD_MorningStar_Rating_and_Stocks_EMR.ipynb",
      "provenance": [],
      "include_colab_link": true
    }
  },
  "cells": [
    {
      "cell_type": "markdown",
      "metadata": {
        "id": "view-in-github",
        "colab_type": "text"
      },
      "source": [
        "<a href=\"https://colab.research.google.com/github/waltz2u/bd/blob/master/Basic_Spark_RDD_MorningStar_Rating_and_Stocks_EMR.ipynb\" target=\"_parent\"><img src=\"https://colab.research.google.com/assets/colab-badge.svg\" alt=\"Open In Colab\"/></a>"
      ]
    },
    {
      "cell_type": "markdown",
      "metadata": {
        "id": "AjlWgRS_zC85",
        "colab_type": "text"
      },
      "source": [
        "# Basic Spark RDD with MorningStar Rating and Stock data"
      ]
    },
    {
      "cell_type": "code",
      "metadata": {
        "id": "PTeze6vxzC89",
        "colab_type": "code",
        "colab": {
          "referenced_widgets": [
            "86157c5b034e453084c88f194e9b777c",
            ""
          ]
        },
        "outputId": "cece08ec-16bf-4c89-b85f-95a5df2047d0"
      },
      "source": [
        "sc.list_packages()"
      ],
      "execution_count": 0,
      "outputs": [
        {
          "output_type": "display_data",
          "data": {
            "application/vnd.jupyter.widget-view+json": {
              "model_id": "86157c5b034e453084c88f194e9b777c",
              "version_major": 2,
              "version_minor": 0
            },
            "text/plain": [
              "VBox()"
            ]
          },
          "metadata": {
            "tags": []
          }
        },
        {
          "output_type": "stream",
          "text": [
            "Starting Spark application\n"
          ],
          "name": "stdout"
        },
        {
          "output_type": "display_data",
          "data": {
            "text/html": [
              "<table>\n",
              "<tr><th>ID</th><th>YARN Application ID</th><th>Kind</th><th>State</th><th>Spark UI</th><th>Driver log</th><th>Current session?</th></tr><tr><td>0</td><td>application_1584068654270_0001</td><td>pyspark</td><td>idle</td><td><a target=\"_blank\" href=\"http://ip-172-31-56-29.us-west-2.compute.internal:20888/proxy/application_1584068654270_0001/\">Link</a></td><td><a target=\"_blank\" href=\"http://ip-172-31-52-134.us-west-2.compute.internal:8042/node/containerlogs/container_1584068654270_0001_01_000001/livy\">Link</a></td><td>✔</td></tr></table>"
            ],
            "text/plain": [
              "<IPython.core.display.HTML object>"
            ]
          },
          "metadata": {
            "tags": []
          }
        },
        {
          "output_type": "display_data",
          "data": {
            "application/vnd.jupyter.widget-view+json": {
              "model_id": "",
              "version_major": 2,
              "version_minor": 0
            },
            "text/plain": [
              "FloatProgress(value=0.0, bar_style='info', description='Progress:', layout=Layout(height='25px', width='50%'),…"
            ]
          },
          "metadata": {
            "tags": []
          }
        },
        {
          "output_type": "stream",
          "text": [
            "SparkSession available as 'spark'.\n"
          ],
          "name": "stdout"
        },
        {
          "output_type": "display_data",
          "data": {
            "application/vnd.jupyter.widget-view+json": {
              "model_id": "",
              "version_major": 2,
              "version_minor": 0
            },
            "text/plain": [
              "FloatProgress(value=0.0, bar_style='info', description='Progress:', layout=Layout(height='25px', width='50%'),…"
            ]
          },
          "metadata": {
            "tags": []
          }
        },
        {
          "output_type": "stream",
          "text": [
            "Package                    Version\n",
            "-------------------------- -------\n",
            "beautifulsoup4             4.8.1  \n",
            "boto                       2.49.0 \n",
            "jmespath                   0.9.4  \n",
            "lxml                       4.4.2  \n",
            "mysqlclient                1.4.6  \n",
            "nltk                       3.4.5  \n",
            "nose                       1.3.4  \n",
            "numpy                      1.14.5 \n",
            "pip                        20.0.2 \n",
            "py-dateutil                2.2    \n",
            "python36-sagemaker-pyspark 1.2.6  \n",
            "pytz                       2019.3 \n",
            "PyYAML                     3.11   \n",
            "setuptools                 46.0.0 \n",
            "six                        1.13.0 \n",
            "soupsieve                  1.9.5  \n",
            "wheel                      0.34.2 \n",
            "windmill                   1.6"
          ],
          "name": "stdout"
        }
      ]
    },
    {
      "cell_type": "markdown",
      "metadata": {
        "id": "_axcG6XUzC9G",
        "colab_type": "text"
      },
      "source": [
        "## MorningStar Ratings "
      ]
    },
    {
      "cell_type": "markdown",
      "metadata": {
        "id": "aYsn51ifzC9H",
        "colab_type": "text"
      },
      "source": [
        "First read data in"
      ]
    },
    {
      "cell_type": "code",
      "metadata": {
        "id": "JXewabp8zC9K",
        "colab_type": "code",
        "colab": {
          "referenced_widgets": [
            "7e37b185acd74954bbc1dfe74e9901c0",
            ""
          ]
        },
        "outputId": "15a1a24e-6726-452c-e6f7-0bf217026d86"
      },
      "source": [
        "from pyspark.sql import SparkSession\n",
        "spark = SparkSession.builder.master(\"local[*]\").getOrCreate() #"
      ],
      "execution_count": 0,
      "outputs": [
        {
          "output_type": "display_data",
          "data": {
            "application/vnd.jupyter.widget-view+json": {
              "model_id": "7e37b185acd74954bbc1dfe74e9901c0",
              "version_major": 2,
              "version_minor": 0
            },
            "text/plain": [
              "VBox()"
            ]
          },
          "metadata": {
            "tags": []
          }
        },
        {
          "output_type": "display_data",
          "data": {
            "application/vnd.jupyter.widget-view+json": {
              "model_id": "",
              "version_major": 2,
              "version_minor": 0
            },
            "text/plain": [
              "FloatProgress(value=0.0, bar_style='info', description='Progress:', layout=Layout(height='25px', width='50%'),…"
            ]
          },
          "metadata": {
            "tags": []
          }
        }
      ]
    },
    {
      "cell_type": "code",
      "metadata": {
        "id": "3AZ0CK50zC9P",
        "colab_type": "code",
        "colab": {
          "referenced_widgets": [
            "cfa099204f2b4205bbdd00212f021f3a",
            ""
          ]
        },
        "outputId": "578f9744-ef3e-4cdf-f959-244989f8e671"
      },
      "source": [
        "lines = spark.sparkContext.textFile('s3://uconn19/morningstar.csv')\n",
        "lines.take(3)"
      ],
      "execution_count": 0,
      "outputs": [
        {
          "output_type": "display_data",
          "data": {
            "application/vnd.jupyter.widget-view+json": {
              "model_id": "cfa099204f2b4205bbdd00212f021f3a",
              "version_major": 2,
              "version_minor": 0
            },
            "text/plain": [
              "VBox()"
            ]
          },
          "metadata": {
            "tags": []
          }
        },
        {
          "output_type": "display_data",
          "data": {
            "application/vnd.jupyter.widget-view+json": {
              "model_id": "",
              "version_major": 2,
              "version_minor": 0
            },
            "text/plain": [
              "FloatProgress(value=0.0, bar_style='info', description='Progress:', layout=Layout(height='25px', width='50%'),…"
            ]
          },
          "metadata": {
            "tags": []
          }
        },
        {
          "output_type": "stream",
          "text": [
            "['ProFunds Short Precious Metals Inv,SPPIX,NA', 'ProFunds Short Precious Metals Svc,SPPSX,NA', 'ProFunds Biotechnology UltraSector Inv,BIPIX,4']"
          ],
          "name": "stdout"
        }
      ]
    },
    {
      "cell_type": "code",
      "metadata": {
        "id": "lTJjamffzC9X",
        "colab_type": "code",
        "colab": {
          "referenced_widgets": [
            "015d9e844d0d48be9290ffdf5694160f",
            ""
          ]
        },
        "outputId": "3fa5263a-e9fb-4170-b43d-029a06a53d66"
      },
      "source": [
        "ratings = lines.map(lambda x: x.split(',')[2])\n",
        "ratings.take(10)"
      ],
      "execution_count": 0,
      "outputs": [
        {
          "output_type": "display_data",
          "data": {
            "application/vnd.jupyter.widget-view+json": {
              "model_id": "015d9e844d0d48be9290ffdf5694160f",
              "version_major": 2,
              "version_minor": 0
            },
            "text/plain": [
              "VBox()"
            ]
          },
          "metadata": {
            "tags": []
          }
        },
        {
          "output_type": "display_data",
          "data": {
            "application/vnd.jupyter.widget-view+json": {
              "model_id": "",
              "version_major": 2,
              "version_minor": 0
            },
            "text/plain": [
              "FloatProgress(value=0.0, bar_style='info', description='Progress:', layout=Layout(height='25px', width='50%'),…"
            ]
          },
          "metadata": {
            "tags": []
          }
        },
        {
          "output_type": "stream",
          "text": [
            "['NA', 'NA', '4', '3', '5', '5', '4', '4', '4', '4']"
          ],
          "name": "stdout"
        }
      ]
    },
    {
      "cell_type": "code",
      "metadata": {
        "id": "ms8VKJ0lzC9d",
        "colab_type": "code",
        "colab": {
          "referenced_widgets": [
            "3bcbbc9569eb4fe882359747ae7469c2",
            ""
          ]
        },
        "outputId": "7c81f00c-50aa-4875-c5b9-2aba5fb042b8"
      },
      "source": [
        "result = ratings.countByValue()\n",
        "print(result)"
      ],
      "execution_count": 0,
      "outputs": [
        {
          "output_type": "display_data",
          "data": {
            "application/vnd.jupyter.widget-view+json": {
              "model_id": "3bcbbc9569eb4fe882359747ae7469c2",
              "version_major": 2,
              "version_minor": 0
            },
            "text/plain": [
              "VBox()"
            ]
          },
          "metadata": {
            "tags": []
          }
        },
        {
          "output_type": "display_data",
          "data": {
            "application/vnd.jupyter.widget-view+json": {
              "model_id": "",
              "version_major": 2,
              "version_minor": 0
            },
            "text/plain": [
              "FloatProgress(value=0.0, bar_style='info', description='Progress:', layout=Layout(height='25px', width='50%'),…"
            ]
          },
          "metadata": {
            "tags": []
          }
        },
        {
          "output_type": "stream",
          "text": [
            "defaultdict(<class 'int'>, {'NA': 19, '4': 19, '3': 19, '5': 18, '1': 24})"
          ],
          "name": "stdout"
        }
      ]
    },
    {
      "cell_type": "code",
      "metadata": {
        "id": "BWiqkSf3zC9i",
        "colab_type": "code",
        "colab": {
          "referenced_widgets": [
            "23196030a00145c3b6d23e4c99501f39",
            ""
          ]
        },
        "outputId": "08f88441-ddba-45f5-afa4-bbd36d45ea95"
      },
      "source": [
        "import collections\n",
        "sortedCounts = collections.OrderedDict(sorted(result.items()))\n",
        "for key, value in sortedCounts.items():\n",
        "    print (\"%s %i\" % (key, value))"
      ],
      "execution_count": 0,
      "outputs": [
        {
          "output_type": "display_data",
          "data": {
            "application/vnd.jupyter.widget-view+json": {
              "model_id": "23196030a00145c3b6d23e4c99501f39",
              "version_major": 2,
              "version_minor": 0
            },
            "text/plain": [
              "VBox()"
            ]
          },
          "metadata": {
            "tags": []
          }
        },
        {
          "output_type": "display_data",
          "data": {
            "application/vnd.jupyter.widget-view+json": {
              "model_id": "",
              "version_major": 2,
              "version_minor": 0
            },
            "text/plain": [
              "FloatProgress(value=0.0, bar_style='info', description='Progress:', layout=Layout(height='25px', width='50%'),…"
            ]
          },
          "metadata": {
            "tags": []
          }
        },
        {
          "output_type": "stream",
          "text": [
            "1 24\n",
            "3 19\n",
            "4 19\n",
            "5 18\n",
            "NA 19"
          ],
          "name": "stdout"
        }
      ]
    },
    {
      "cell_type": "markdown",
      "metadata": {
        "id": "LwyNVjJizC9t",
        "colab_type": "text"
      },
      "source": [
        "## Mean Price by Month"
      ]
    },
    {
      "cell_type": "markdown",
      "metadata": {
        "id": "orXYqc6jzC9u",
        "colab_type": "text"
      },
      "source": [
        "Given date and stock price, returns average price by month"
      ]
    },
    {
      "cell_type": "code",
      "metadata": {
        "id": "F7CQGn8_zC9v",
        "colab_type": "code",
        "colab": {
          "referenced_widgets": [
            "2c49558eaaa7430b8dc396ece366fd6c",
            ""
          ]
        },
        "outputId": "216c51de-43ce-499f-fd78-3ab0b469831d"
      },
      "source": [
        "# this function gets month, year and adjusted closed price\n",
        "def parseLine(line):\n",
        "    fields = line.split(',')\n",
        "    datetimedata = fields[0]\n",
        "    datetimearray = datetimedata.split('/')\n",
        "    monthyear = datetimearray[0]+datetimearray[2]\n",
        "    adjclose = float(fields[6])\n",
        "    return (monthyear, adjclose)\n",
        "\n",
        "lines = spark.sparkContext.textFile(\"s3://uconn19/adjclose.csv\")\n",
        "\n",
        "# lines is an RDD, take some to check\n",
        "lines.take(3)"
      ],
      "execution_count": 0,
      "outputs": [
        {
          "output_type": "display_data",
          "data": {
            "application/vnd.jupyter.widget-view+json": {
              "model_id": "2c49558eaaa7430b8dc396ece366fd6c",
              "version_major": 2,
              "version_minor": 0
            },
            "text/plain": [
              "VBox()"
            ]
          },
          "metadata": {
            "tags": []
          }
        },
        {
          "output_type": "display_data",
          "data": {
            "application/vnd.jupyter.widget-view+json": {
              "model_id": "",
              "version_major": 2,
              "version_minor": 0
            },
            "text/plain": [
              "FloatProgress(value=0.0, bar_style='info', description='Progress:', layout=Layout(height='25px', width='50%'),…"
            ]
          },
          "metadata": {
            "tags": []
          }
        },
        {
          "output_type": "stream",
          "text": [
            "['1/28/2015,49.799999,50.32,46.299999,46.459999,84839700,46.459999', '1/27/2015,49.139999,49.279999,47.66,47.990002,45777200,47.990002', '1/26/2015,49.57,49.790001,49.07,49.439999,18976400,49.439999']"
          ],
          "name": "stdout"
        }
      ]
    },
    {
      "cell_type": "code",
      "metadata": {
        "id": "XyHlWW5PzC92",
        "colab_type": "code",
        "colab": {
          "referenced_widgets": [
            "ecdf122d89c644019503d22adb0f5207",
            ""
          ]
        },
        "outputId": "a99a875b-a7e7-4ab7-f984-27342b992629"
      },
      "source": [
        "# gets month, year and adjusted closed price\n",
        "rdd = lines.map(parseLine)\n",
        "rdd.take(3)"
      ],
      "execution_count": 0,
      "outputs": [
        {
          "output_type": "display_data",
          "data": {
            "application/vnd.jupyter.widget-view+json": {
              "model_id": "ecdf122d89c644019503d22adb0f5207",
              "version_major": 2,
              "version_minor": 0
            },
            "text/plain": [
              "VBox()"
            ]
          },
          "metadata": {
            "tags": []
          }
        },
        {
          "output_type": "display_data",
          "data": {
            "application/vnd.jupyter.widget-view+json": {
              "model_id": "",
              "version_major": 2,
              "version_minor": 0
            },
            "text/plain": [
              "FloatProgress(value=0.0, bar_style='info', description='Progress:', layout=Layout(height='25px', width='50%'),…"
            ]
          },
          "metadata": {
            "tags": []
          }
        },
        {
          "output_type": "stream",
          "text": [
            "[('12015', 46.459999), ('12015', 47.990002), ('12015', 49.439999)]"
          ],
          "name": "stdout"
        }
      ]
    },
    {
      "cell_type": "code",
      "metadata": {
        "id": "CW8m_gpzzC-C",
        "colab_type": "code",
        "colab": {
          "referenced_widgets": [
            "0ba16fbd520d4fdd8c768be28596cdd2",
            ""
          ]
        },
        "outputId": "6ec8e3bc-3cbc-4fdc-b7ac-2881418cb294"
      },
      "source": [
        "# mapValues to gets a tuple of (adjusted price, 1) for each month\n",
        "rdd.mapValues(lambda x: (x, 1)).take(3)"
      ],
      "execution_count": 0,
      "outputs": [
        {
          "output_type": "display_data",
          "data": {
            "application/vnd.jupyter.widget-view+json": {
              "model_id": "0ba16fbd520d4fdd8c768be28596cdd2",
              "version_major": 2,
              "version_minor": 0
            },
            "text/plain": [
              "VBox()"
            ]
          },
          "metadata": {
            "tags": []
          }
        },
        {
          "output_type": "display_data",
          "data": {
            "application/vnd.jupyter.widget-view+json": {
              "model_id": "",
              "version_major": 2,
              "version_minor": 0
            },
            "text/plain": [
              "FloatProgress(value=0.0, bar_style='info', description='Progress:', layout=Layout(height='25px', width='50%'),…"
            ]
          },
          "metadata": {
            "tags": []
          }
        },
        {
          "output_type": "stream",
          "text": [
            "[('12015', (46.459999, 1)), ('12015', (47.990002, 1)), ('12015', (49.439999, 1))]"
          ],
          "name": "stdout"
        }
      ]
    },
    {
      "cell_type": "code",
      "metadata": {
        "id": "3w8yaZWrzC-M",
        "colab_type": "code",
        "colab": {
          "referenced_widgets": [
            "23e713ee66be4771bdc2a1cb40f70512",
            ""
          ]
        },
        "outputId": "d2c25be8-4529-4669-c362-cd6861d479f1"
      },
      "source": [
        "# then add tuples together using reduceByKey\n",
        "priceByMonthYear = rdd.mapValues(lambda x: (x, 1)).reduceByKey(lambda x, y: (x[0] + y[0], x[1] + y[1]))\n",
        "priceByMonthYear.take(3)"
      ],
      "execution_count": 0,
      "outputs": [
        {
          "output_type": "display_data",
          "data": {
            "application/vnd.jupyter.widget-view+json": {
              "model_id": "23e713ee66be4771bdc2a1cb40f70512",
              "version_major": 2,
              "version_minor": 0
            },
            "text/plain": [
              "VBox()"
            ]
          },
          "metadata": {
            "tags": []
          }
        },
        {
          "output_type": "display_data",
          "data": {
            "application/vnd.jupyter.widget-view+json": {
              "model_id": "",
              "version_major": 2,
              "version_minor": 0
            },
            "text/plain": [
              "FloatProgress(value=0.0, bar_style='info', description='Progress:', layout=Layout(height='25px', width='50%'),…"
            ]
          },
          "metadata": {
            "tags": []
          }
        },
        {
          "output_type": "stream",
          "text": [
            "[('12015', (871.899997, 18)), ('112014', (952.880004, 19)), ('92014', (854.119997, 21))]"
          ],
          "name": "stdout"
        }
      ]
    },
    {
      "cell_type": "code",
      "metadata": {
        "id": "yJX4uBt_zC-S",
        "colab_type": "code",
        "colab": {
          "referenced_widgets": [
            "f0b2893d73004f688f5979548a1efc86",
            ""
          ]
        },
        "outputId": "e2cbb301-a70f-4ef3-93b1-5f7b388d871b"
      },
      "source": [
        "# then finally mapValues to calculate average price \n",
        "averagesByMonthYear = priceByMonthYear.mapValues(lambda x: x[0] / x[1])\n",
        "results = averagesByMonthYear.collect()\n",
        "for result in results:\n",
        "    print (result)"
      ],
      "execution_count": 0,
      "outputs": [
        {
          "output_type": "display_data",
          "data": {
            "application/vnd.jupyter.widget-view+json": {
              "model_id": "f0b2893d73004f688f5979548a1efc86",
              "version_major": 2,
              "version_minor": 0
            },
            "text/plain": [
              "VBox()"
            ]
          },
          "metadata": {
            "tags": []
          }
        },
        {
          "output_type": "display_data",
          "data": {
            "application/vnd.jupyter.widget-view+json": {
              "model_id": "",
              "version_major": 2,
              "version_minor": 0
            },
            "text/plain": [
              "FloatProgress(value=0.0, bar_style='info', description='Progress:', layout=Layout(height='25px', width='50%'),…"
            ]
          },
          "metadata": {
            "tags": []
          }
        },
        {
          "output_type": "stream",
          "text": [
            "('12015', 48.438888722222224)\n",
            "('112014', 50.15157915789474)\n",
            "('92014', 40.67238080952381)\n",
            "('82014', 36.87619052380952)\n",
            "('72014', 35.097272409090905)\n",
            "('32014', 37.71476223809524)\n",
            "('22014', 37.43578963157895)\n",
            "('82013', 27.525454454545457)\n",
            "('72013', 27.304545590909093)\n",
            "('62013', 25.911499999999997)\n",
            "('52013', 26.159545227272723)\n",
            "('12013', 19.815714523809525)\n",
            "('102012', 16.12428576190476)\n",
            "('82012', 15.226086956521744)\n",
            "('72012', 15.77476195238095)\n",
            "('52012', 15.358181818181817)\n",
            "('42012', 15.253499999999997)\n",
            "('22012', 15.371500000000003)\n",
            "('122011', 15.678571333333334)\n",
            "('72011', 14.505)\n",
            "('62011', 15.178181818181816)\n",
            "('52011', 16.98523780952381)\n",
            "('32011', 16.660869608695652)\n",
            "('12011', 16.42199995)\n",
            "('112010', 16.419523761904763)\n",
            "('82010', 13.796363636363639)\n",
            "('72010', 14.474761904761904)\n",
            "('52010', 15.935499949999999)\n",
            "('32010', 16.303913260869564)\n",
            "('22010', 15.268947368421053)\n",
            "('102009', 16.94318168181818)\n",
            "('92009', 16.150952285714283)\n",
            "('82009', 14.75095238095238)\n",
            "('122014', 50.34045431818181)\n",
            "('102014', 41.39391286956522)\n",
            "('62014', 34.958571333333325)\n",
            "('52014', 34.76428557142857)\n",
            "('42014', 35.00238119047619)\n",
            "('12014', 39.2552378095238)\n",
            "('122013', 39.51238090476191)\n",
            "('112013', 34.82449995)\n",
            "('102013', 33.45304330434782)\n",
            "('92013', 30.171500100000003)\n",
            "('42013', 24.022272863636363)\n",
            "('32013', 22.716000199999996)\n",
            "('22013', 20.689999894736843)\n",
            "('122012', 19.413000049999997)\n",
            "('112012', 17.97761919047619)\n",
            "('92012', 15.560000052631578)\n",
            "('62012', 15.420476190476192)\n",
            "('32012', 15.002727272727277)\n",
            "('12012', 15.6760001)\n",
            "('112011', 15.508571428571432)\n",
            "('102011', 15.801428428571425)\n",
            "('92011', 14.10904761904762)\n",
            "('82011', 12.88695652173913)\n",
            "('42011', 16.8795004)\n",
            "('22011', 16.830000105263156)\n",
            "('122010', 16.585909136363632)\n",
            "('102010', 15.444761809523808)\n",
            "('92010', 13.94047619047619)\n",
            "('62010', 15.030454545454544)\n",
            "('42010', 17.473333095238097)\n",
            "('12010', 16.455263315789477)\n",
            "('122009', 15.916363545454544)\n",
            "('112009', 15.7105)\n",
            "('72009', 15.763181909090912)\n",
            "('62009', 15.957272772727272)\n",
            "('52009', 14.95)\n",
            "('42009', 14.212142857142856)"
          ],
          "name": "stdout"
        }
      ]
    }
  ]
}