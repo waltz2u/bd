{
  "nbformat": 4,
  "nbformat_minor": 0,
  "metadata": {
    "kernelspec": {
      "display_name": "Python 3",
      "language": "python",
      "name": "python3"
    },
    "language_info": {
      "codemirror_mode": {
        "name": "ipython",
        "version": 3
      },
      "file_extension": ".py",
      "mimetype": "text/x-python",
      "name": "python",
      "nbconvert_exporter": "python",
      "pygments_lexer": "ipython3",
      "version": "3.6.3"
    },
    "colab": {
      "name": "Spark DataFrame.ipynb",
      "provenance": [],
      "collapsed_sections": [],
      "include_colab_link": true
    }
  },
  "cells": [
    {
      "cell_type": "markdown",
      "metadata": {
        "id": "view-in-github",
        "colab_type": "text"
      },
      "source": [
        "<a href=\"https://colab.research.google.com/github/waltz2u/bd/blob/master/Spark_DataFrame.ipynb\" target=\"_parent\"><img src=\"https://colab.research.google.com/assets/colab-badge.svg\" alt=\"Open In Colab\"/></a>"
      ]
    },
    {
      "cell_type": "code",
      "metadata": {
        "id": "x-V2Yet09SsH",
        "colab_type": "code",
        "colab": {}
      },
      "source": [
        "from google.colab import drive\n",
        "drive.mount('/content/gdrive')"
      ],
      "execution_count": 0,
      "outputs": []
    },
    {
      "cell_type": "markdown",
      "metadata": {
        "id": "z7_9z8K1-zoc",
        "colab_type": "text"
      },
      "source": [
        "# Setting things up"
      ]
    },
    {
      "cell_type": "code",
      "metadata": {
        "id": "aKQW_j_W-bOV",
        "colab_type": "code",
        "colab": {
          "base_uri": "https://localhost:8080/",
          "height": 343
        },
        "outputId": "4bb2f5a7-e4d1-4a9e-9106-56d2e9db9567"
      },
      "source": [
        "!apt-get update\n",
        "!apt-get install openjdk-8-jdk-headless -qq > /dev/null\n",
        "!wget -q https://archive.apache.org/dist/spark/spark-2.4.5/spark-2.4.5-bin-hadoop2.7.tgz\n",
        "!tar xf spark-2.4.5-bin-hadoop2.7.tgz\n",
        "!pip install -q findspark"
      ],
      "execution_count": 2,
      "outputs": [
        {
          "output_type": "stream",
          "text": [
            "\r0% [Working]\r            \rIgn:1 https://developer.download.nvidia.com/compute/cuda/repos/ubuntu1804/x86_64  InRelease\n",
            "Get:2 https://cloud.r-project.org/bin/linux/ubuntu bionic-cran35/ InRelease [3,626 B]\n",
            "Hit:3 http://ppa.launchpad.net/graphics-drivers/ppa/ubuntu bionic InRelease\n",
            "Hit:4 http://archive.ubuntu.com/ubuntu bionic InRelease\n",
            "Ign:5 https://developer.download.nvidia.com/compute/machine-learning/repos/ubuntu1804/x86_64  InRelease\n",
            "Hit:6 https://developer.download.nvidia.com/compute/cuda/repos/ubuntu1804/x86_64  Release\n",
            "Hit:7 https://developer.download.nvidia.com/compute/machine-learning/repos/ubuntu1804/x86_64  Release\n",
            "Get:8 http://security.ubuntu.com/ubuntu bionic-security InRelease [88.7 kB]\n",
            "Get:9 http://archive.ubuntu.com/ubuntu bionic-updates InRelease [88.7 kB]\n",
            "Get:10 http://ppa.launchpad.net/marutter/c2d4u3.5/ubuntu bionic InRelease [15.4 kB]\n",
            "Get:11 http://archive.ubuntu.com/ubuntu bionic-backports InRelease [74.6 kB]\n",
            "Get:14 http://ppa.launchpad.net/marutter/c2d4u3.5/ubuntu bionic/main Sources [1,784 kB]\n",
            "Get:15 http://archive.ubuntu.com/ubuntu bionic-updates/main amd64 Packages [1,151 kB]\n",
            "Get:16 http://security.ubuntu.com/ubuntu bionic-security/main amd64 Packages [857 kB]\n",
            "Get:17 http://archive.ubuntu.com/ubuntu bionic-updates/universe amd64 Packages [1,361 kB]\n",
            "Get:18 http://security.ubuntu.com/ubuntu bionic-security/universe amd64 Packages [832 kB]\n",
            "Get:19 http://ppa.launchpad.net/marutter/c2d4u3.5/ubuntu bionic/main amd64 Packages [861 kB]\n",
            "Fetched 7,117 kB in 3s (2,505 kB/s)\n",
            "Reading package lists... Done\n"
          ],
          "name": "stdout"
        }
      ]
    },
    {
      "cell_type": "code",
      "metadata": {
        "id": "apJ5CPVh-kbb",
        "colab_type": "code",
        "colab": {
          "base_uri": "https://localhost:8080/",
          "height": 34
        },
        "outputId": "24a1c9fe-13f8-406c-bc82-be16f19c288a"
      },
      "source": [
        "!ls"
      ],
      "execution_count": 3,
      "outputs": [
        {
          "output_type": "stream",
          "text": [
            "gdrive\tsample_data  spark-2.4.5-bin-hadoop2.7\tspark-2.4.5-bin-hadoop2.7.tgz\n"
          ],
          "name": "stdout"
        }
      ]
    },
    {
      "cell_type": "code",
      "metadata": {
        "id": "swYD_ThL-odU",
        "colab_type": "code",
        "colab": {
          "base_uri": "https://localhost:8080/",
          "height": 188
        },
        "outputId": "47051ca4-3d95-48d7-e54f-320c74ee7b22"
      },
      "source": [
        "!update-alternatives --config java"
      ],
      "execution_count": 4,
      "outputs": [
        {
          "output_type": "stream",
          "text": [
            "There are 2 choices for the alternative java (providing /usr/bin/java).\n",
            "\n",
            "  Selection    Path                                            Priority   Status\n",
            "------------------------------------------------------------\n",
            "* 0            /usr/lib/jvm/java-11-openjdk-amd64/bin/java      1111      auto mode\n",
            "  1            /usr/lib/jvm/java-11-openjdk-amd64/bin/java      1111      manual mode\n",
            "  2            /usr/lib/jvm/java-8-openjdk-amd64/jre/bin/java   1081      manual mode\n",
            "\n",
            "Press <enter> to keep the current choice[*], or type selection number: 2\n",
            "update-alternatives: using /usr/lib/jvm/java-8-openjdk-amd64/jre/bin/java to provide /usr/bin/java (java) in manual mode\n"
          ],
          "name": "stdout"
        }
      ]
    },
    {
      "cell_type": "code",
      "metadata": {
        "id": "mHRgSK-N-tut",
        "colab_type": "code",
        "colab": {
          "base_uri": "https://localhost:8080/",
          "height": 68
        },
        "outputId": "521423a9-d9c3-48c1-c1ef-49a43649784a"
      },
      "source": [
        "!java -version "
      ],
      "execution_count": 5,
      "outputs": [
        {
          "output_type": "stream",
          "text": [
            "openjdk version \"1.8.0_242\"\n",
            "OpenJDK Runtime Environment (build 1.8.0_242-8u242-b08-0ubuntu3~18.04-b08)\n",
            "OpenJDK 64-Bit Server VM (build 25.242-b08, mixed mode)\n"
          ],
          "name": "stdout"
        }
      ]
    },
    {
      "cell_type": "code",
      "metadata": {
        "id": "siQoRECt-xwE",
        "colab_type": "code",
        "colab": {}
      },
      "source": [
        "import os\n",
        "os.environ[\"JAVA_HOME\"] = \"/usr/lib/jvm/java-8-openjdk-amd64\"\n",
        "os.environ[\"SPARK_HOME\"] = \"/content/spark-2.4.5-bin-hadoop2.7\""
      ],
      "execution_count": 0,
      "outputs": []
    },
    {
      "cell_type": "markdown",
      "metadata": {
        "id": "qFL5gtFu8hGk",
        "colab_type": "text"
      },
      "source": [
        "# Spark DataFrame"
      ]
    },
    {
      "cell_type": "markdown",
      "metadata": {
        "id": "tQCuFcRE8hGo",
        "colab_type": "text"
      },
      "source": [
        "For the following to work, you must have installed pyspark on Anaconda beforehand\n",
        "\n",
        "conda install -c conda-forge pyspark\n",
        "\n",
        "Then change the path to the data folder accordingly"
      ]
    },
    {
      "cell_type": "code",
      "metadata": {
        "id": "FTyEDkEM8hGq",
        "colab_type": "code",
        "colab": {}
      },
      "source": [
        "import findspark\n",
        "findspark.init(\"/content/spark-2.4.5-bin-hadoop2.7\")\n",
        "from pyspark.sql import SparkSession\n",
        "# Sets the Spark master URL to connect to, such as \"local\" to run locally, \n",
        "# \"local[4]\" to run locally with 4 cores, or \"spark://master:7077\" to run on a Spark standalone cluster.\n",
        "spark = SparkSession.builder.master(\"local[*]\").getOrCreate() #"
      ],
      "execution_count": 0,
      "outputs": []
    },
    {
      "cell_type": "code",
      "metadata": {
        "id": "JW1rWhJt8hGx",
        "colab_type": "code",
        "colab": {}
      },
      "source": [
        "usage_df = spark.read.format(\"csv\").option(\"header\", \"true\").load(r'/content/gdrive/My Drive/models/device_usages/user_usage.csv')"
      ],
      "execution_count": 0,
      "outputs": []
    },
    {
      "cell_type": "markdown",
      "metadata": {
        "id": "sx1xSSGW8hG2",
        "colab_type": "text"
      },
      "source": [
        "First n observations"
      ]
    },
    {
      "cell_type": "code",
      "metadata": {
        "id": "dtphDHgY8hG3",
        "colab_type": "code",
        "colab": {
          "base_uri": "https://localhost:8080/",
          "height": 103
        },
        "outputId": "334b9938-51dd-4ae0-aee9-fb247ac94d45"
      },
      "source": [
        "usage_df.head(5)"
      ],
      "execution_count": 9,
      "outputs": [
        {
          "output_type": "execute_result",
          "data": {
            "text/plain": [
              "[Row(outgoing_mins_per_month='21.97', outgoing_sms_per_month='4.82', monthly_mb='1557.33', use_id='22787'),\n",
              " Row(outgoing_mins_per_month='1710.08', outgoing_sms_per_month='136.88', monthly_mb='7267.55', use_id='22788'),\n",
              " Row(outgoing_mins_per_month='1710.08', outgoing_sms_per_month='136.88', monthly_mb='7267.55', use_id='22789'),\n",
              " Row(outgoing_mins_per_month='94.46', outgoing_sms_per_month='35.17', monthly_mb='519.12', use_id='22790'),\n",
              " Row(outgoing_mins_per_month='71.59', outgoing_sms_per_month='79.26', monthly_mb='1557.33', use_id='22792')]"
            ]
          },
          "metadata": {
            "tags": []
          },
          "execution_count": 9
        }
      ]
    },
    {
      "cell_type": "code",
      "metadata": {
        "id": "xiAGL6n18hG7",
        "colab_type": "code",
        "colab": {
          "base_uri": "https://localhost:8080/",
          "height": 206
        },
        "outputId": "5d8b87c7-773a-4192-a658-7f3df127fc7c"
      },
      "source": [
        "usage_df.show(5)"
      ],
      "execution_count": 10,
      "outputs": [
        {
          "output_type": "stream",
          "text": [
            "+-----------------------+----------------------+----------+------+\n",
            "|outgoing_mins_per_month|outgoing_sms_per_month|monthly_mb|use_id|\n",
            "+-----------------------+----------------------+----------+------+\n",
            "|                  21.97|                  4.82|   1557.33| 22787|\n",
            "|                1710.08|                136.88|   7267.55| 22788|\n",
            "|                1710.08|                136.88|   7267.55| 22789|\n",
            "|                  94.46|                 35.17|    519.12| 22790|\n",
            "|                  71.59|                 79.26|   1557.33| 22792|\n",
            "+-----------------------+----------------------+----------+------+\n",
            "only showing top 5 rows\n",
            "\n"
          ],
          "name": "stdout"
        }
      ]
    },
    {
      "cell_type": "code",
      "metadata": {
        "id": "_sALoxvK8hG_",
        "colab_type": "code",
        "colab": {}
      },
      "source": [
        "device_df = spark.read.format(\"csv\").option(\"header\", \"true\").load(r'/content/gdrive/My Drive/models/device_usages/user_device.csv')"
      ],
      "execution_count": 0,
      "outputs": []
    },
    {
      "cell_type": "code",
      "metadata": {
        "id": "EP2FGIdr8hHF",
        "colab_type": "code",
        "colab": {
          "base_uri": "https://localhost:8080/",
          "height": 171
        },
        "outputId": "ef7ad495-1fd2-44cd-f419-b15ed3605f7a"
      },
      "source": [
        "device_df.show(3)"
      ],
      "execution_count": 12,
      "outputs": [
        {
          "output_type": "stream",
          "text": [
            "+------+-------+--------+----------------+---------+-----------+\n",
            "|use_id|user_id|platform|platform_version|   device|use_type_id|\n",
            "+------+-------+--------+----------------+---------+-----------+\n",
            "| 22782|  26980|     ios|            10.2|iPhone7,2|          2|\n",
            "| 22783|  29628| android|               6|  Nexus 5|          3|\n",
            "| 22784|  28473| android|             5.1| SM-G903F|          1|\n",
            "+------+-------+--------+----------------+---------+-----------+\n",
            "only showing top 3 rows\n",
            "\n"
          ],
          "name": "stdout"
        }
      ]
    },
    {
      "cell_type": "markdown",
      "metadata": {
        "id": "1Y0vgajU8hHL",
        "colab_type": "text"
      },
      "source": [
        "Group by"
      ]
    },
    {
      "cell_type": "code",
      "metadata": {
        "id": "7Hy-3M8s8hHM",
        "colab_type": "code",
        "colab": {
          "base_uri": "https://localhost:8080/",
          "height": 137
        },
        "outputId": "3e4d7ac1-d2dc-49fa-ce3b-189faf2ef332"
      },
      "source": [
        "device_df.groupby('platform').count().show()"
      ],
      "execution_count": 13,
      "outputs": [
        {
          "output_type": "stream",
          "text": [
            "+--------+-----+\n",
            "|platform|count|\n",
            "+--------+-----+\n",
            "| android|  184|\n",
            "|     ios|   88|\n",
            "+--------+-----+\n",
            "\n"
          ],
          "name": "stdout"
        }
      ]
    },
    {
      "cell_type": "markdown",
      "metadata": {
        "id": "U0uVbnce8hHR",
        "colab_type": "text"
      },
      "source": [
        "Another way: use agg() method for aggregation"
      ]
    },
    {
      "cell_type": "code",
      "metadata": {
        "id": "uzuMIPLy8hHT",
        "colab_type": "code",
        "colab": {
          "base_uri": "https://localhost:8080/",
          "height": 137
        },
        "outputId": "bee1cf75-afad-45fb-851f-4df4c8cf661b"
      },
      "source": [
        "device_df.groupby('platform').agg({\"platform\":\"count\"}).show(5)"
      ],
      "execution_count": 14,
      "outputs": [
        {
          "output_type": "stream",
          "text": [
            "+--------+---------------+\n",
            "|platform|count(platform)|\n",
            "+--------+---------------+\n",
            "| android|            184|\n",
            "|     ios|             88|\n",
            "+--------+---------------+\n",
            "\n"
          ],
          "name": "stdout"
        }
      ]
    },
    {
      "cell_type": "code",
      "metadata": {
        "id": "cjTygeIE8hHZ",
        "colab_type": "code",
        "colab": {
          "base_uri": "https://localhost:8080/",
          "height": 206
        },
        "outputId": "1c571d3f-48a4-431a-9342-4f4aecca1a89"
      },
      "source": [
        "usage_df.groupby('use_id').agg({\"monthly_mb\":\"sum\"}).show(5)"
      ],
      "execution_count": 15,
      "outputs": [
        {
          "output_type": "stream",
          "text": [
            "+------+---------------+\n",
            "|use_id|sum(monthly_mb)|\n",
            "+------+---------------+\n",
            "| 22920|        7267.55|\n",
            "| 22831|         407.01|\n",
            "| 22922|        1557.33|\n",
            "| 22875|        1557.33|\n",
            "| 22895|        3114.67|\n",
            "+------+---------------+\n",
            "only showing top 5 rows\n",
            "\n"
          ],
          "name": "stdout"
        }
      ]
    },
    {
      "cell_type": "code",
      "metadata": {
        "id": "2ARwqXdm8hHc",
        "colab_type": "code",
        "colab": {
          "base_uri": "https://localhost:8080/",
          "height": 206
        },
        "outputId": "8af07315-b73e-4224-8cfc-95a0da559fc1"
      },
      "source": [
        "usage_df.groupby('use_id').agg({\"monthly_mb\":\"max\"}).show(5)"
      ],
      "execution_count": 16,
      "outputs": [
        {
          "output_type": "stream",
          "text": [
            "+------+---------------+\n",
            "|use_id|max(monthly_mb)|\n",
            "+------+---------------+\n",
            "| 22920|        7267.55|\n",
            "| 22831|         407.01|\n",
            "| 22922|        1557.33|\n",
            "| 22875|        1557.33|\n",
            "| 22895|        3114.67|\n",
            "+------+---------------+\n",
            "only showing top 5 rows\n",
            "\n"
          ],
          "name": "stdout"
        }
      ]
    },
    {
      "cell_type": "markdown",
      "metadata": {
        "id": "uevs4oBR8hHe",
        "colab_type": "text"
      },
      "source": [
        "Ordered by (multiple forms)"
      ]
    },
    {
      "cell_type": "code",
      "metadata": {
        "id": "EL_l-9E18hHf",
        "colab_type": "code",
        "colab": {
          "base_uri": "https://localhost:8080/",
          "height": 171
        },
        "outputId": "37847347-1cd9-41cc-e313-593d9cf85469"
      },
      "source": [
        "device_df.orderBy('platform',ascending = True).show(3)"
      ],
      "execution_count": 17,
      "outputs": [
        {
          "output_type": "stream",
          "text": [
            "+------+-------+--------+----------------+---------+-----------+\n",
            "|use_id|user_id|platform|platform_version|   device|use_type_id|\n",
            "+------+-------+--------+----------------+---------+-----------+\n",
            "| 22786|  28239| android|               6|ONE E1003|          1|\n",
            "| 22789|  28714| android|               6| SM-G930F|          1|\n",
            "| 22787|  12921| android|             4.3| GT-I9505|          1|\n",
            "+------+-------+--------+----------------+---------+-----------+\n",
            "only showing top 3 rows\n",
            "\n"
          ],
          "name": "stdout"
        }
      ]
    },
    {
      "cell_type": "code",
      "metadata": {
        "id": "0X3ycpQ-8hHi",
        "colab_type": "code",
        "colab": {
          "base_uri": "https://localhost:8080/",
          "height": 171
        },
        "outputId": "c92aa106-e035-4fb5-9796-34ae11ac8c36"
      },
      "source": [
        "device_df.orderBy('platform','device').show(3)"
      ],
      "execution_count": 18,
      "outputs": [
        {
          "output_type": "stream",
          "text": [
            "+------+-------+--------+----------------+------+-----------+\n",
            "|use_id|user_id|platform|platform_version|device|use_type_id|\n",
            "+------+-------+--------+----------------+------+-----------+\n",
            "| 22839|  29655| android|               6| A0001|          1|\n",
            "| 22806|  21615| android|               6| A0001|          1|\n",
            "| 23028|  29716| android|             5.1| C6603|          1|\n",
            "+------+-------+--------+----------------+------+-----------+\n",
            "only showing top 3 rows\n",
            "\n"
          ],
          "name": "stdout"
        }
      ]
    },
    {
      "cell_type": "code",
      "metadata": {
        "id": "5grvkAdQ8hHl",
        "colab_type": "code",
        "colab": {
          "base_uri": "https://localhost:8080/",
          "height": 171
        },
        "outputId": "a566114a-5ae6-4206-c91a-58ddaf5026af"
      },
      "source": [
        "device_df.orderBy(['platform','device'],ascending=[0,1]).show(3)"
      ],
      "execution_count": 19,
      "outputs": [
        {
          "output_type": "stream",
          "text": [
            "+------+-------+--------+----------------+-------+-----------+\n",
            "|use_id|user_id|platform|platform_version| device|use_type_id|\n",
            "+------+-------+--------+----------------+-------+-----------+\n",
            "| 22845|  29658|     ios|             9.3|iPad2,4|          3|\n",
            "| 22844|  29658|     ios|             9.3|iPad2,4|          3|\n",
            "| 22846|  29658|     ios|             9.3|iPad2,4|          3|\n",
            "+------+-------+--------+----------------+-------+-----------+\n",
            "only showing top 3 rows\n",
            "\n"
          ],
          "name": "stdout"
        }
      ]
    },
    {
      "cell_type": "markdown",
      "metadata": {
        "id": "UXtkyCVs8hHp",
        "colab_type": "text"
      },
      "source": [
        "Select columns"
      ]
    },
    {
      "cell_type": "code",
      "metadata": {
        "id": "P9ph01aH8hHr",
        "colab_type": "code",
        "colab": {
          "base_uri": "https://localhost:8080/",
          "height": 206
        },
        "outputId": "ef14e99a-f436-4bae-fd1f-b5f905571bf5"
      },
      "source": [
        "device_df[['user_id','use_id']].show(5)"
      ],
      "execution_count": 20,
      "outputs": [
        {
          "output_type": "stream",
          "text": [
            "+-------+------+\n",
            "|user_id|use_id|\n",
            "+-------+------+\n",
            "|  26980| 22782|\n",
            "|  29628| 22783|\n",
            "|  28473| 22784|\n",
            "|  15200| 22785|\n",
            "|  28239| 22786|\n",
            "+-------+------+\n",
            "only showing top 5 rows\n",
            "\n"
          ],
          "name": "stdout"
        }
      ]
    },
    {
      "cell_type": "markdown",
      "metadata": {
        "id": "aucfYVlJ8hHu",
        "colab_type": "text"
      },
      "source": [
        "Better use select method"
      ]
    },
    {
      "cell_type": "code",
      "metadata": {
        "id": "cgUtTite8hHv",
        "colab_type": "code",
        "colab": {
          "base_uri": "https://localhost:8080/",
          "height": 206
        },
        "outputId": "a05daa71-3cad-4aaa-cc1a-6628f8c3c570"
      },
      "source": [
        "device_df.select('user_id','use_id').show(5)"
      ],
      "execution_count": 23,
      "outputs": [
        {
          "output_type": "stream",
          "text": [
            "+-------+------+\n",
            "|user_id|use_id|\n",
            "+-------+------+\n",
            "|  26980| 22782|\n",
            "|  29628| 22783|\n",
            "|  28473| 22784|\n",
            "|  15200| 22785|\n",
            "|  28239| 22786|\n",
            "+-------+------+\n",
            "only showing top 5 rows\n",
            "\n"
          ],
          "name": "stdout"
        }
      ]
    },
    {
      "cell_type": "markdown",
      "metadata": {
        "id": "ShwBkv-k8hHx",
        "colab_type": "text"
      },
      "source": [
        "Filtering"
      ]
    },
    {
      "cell_type": "code",
      "metadata": {
        "id": "3TCUl0Qh8hHy",
        "colab_type": "code",
        "colab": {
          "base_uri": "https://localhost:8080/",
          "height": 206
        },
        "outputId": "067d7866-24a0-48cf-f514-0adf82350f1a"
      },
      "source": [
        "device_df.filter(device_df.platform == 'ios').show(5)"
      ],
      "execution_count": 24,
      "outputs": [
        {
          "output_type": "stream",
          "text": [
            "+------+-------+--------+----------------+---------+-----------+\n",
            "|use_id|user_id|platform|platform_version|   device|use_type_id|\n",
            "+------+-------+--------+----------------+---------+-----------+\n",
            "| 22782|  26980|     ios|            10.2|iPhone7,2|          2|\n",
            "| 22785|  15200|     ios|            10.2|iPhone7,2|          3|\n",
            "| 22791|  28775|     ios|            10.2|iPhone6,2|          3|\n",
            "| 22796|  29641|     ios|            10.2|iPhone7,2|          3|\n",
            "| 22797|  29642|     ios|            10.1|iPhone5,2|          3|\n",
            "+------+-------+--------+----------------+---------+-----------+\n",
            "only showing top 5 rows\n",
            "\n"
          ],
          "name": "stdout"
        }
      ]
    },
    {
      "cell_type": "markdown",
      "metadata": {
        "id": "Qx8LRQZb8hH1",
        "colab_type": "text"
      },
      "source": [
        "Filtering using where, which is an alias for filter (in the following, using filter in place of where also works"
      ]
    },
    {
      "cell_type": "code",
      "metadata": {
        "id": "FOGc3HCE8hH2",
        "colab_type": "code",
        "colab": {
          "base_uri": "https://localhost:8080/",
          "height": 206
        },
        "outputId": "6634a0d2-9425-403f-efb6-edec02275891"
      },
      "source": [
        "device_df.select('user_id','platform','platform_version').where(\"platform == 'ios' and platform_version like '%.1%'\").show(5)"
      ],
      "execution_count": 25,
      "outputs": [
        {
          "output_type": "stream",
          "text": [
            "+-------+--------+----------------+\n",
            "|user_id|platform|platform_version|\n",
            "+-------+--------+----------------+\n",
            "|  29642|     ios|            10.1|\n",
            "|  29642|     ios|            10.1|\n",
            "|  26668|     ios|            10.1|\n",
            "|  26668|     ios|            10.1|\n",
            "|  29653|     ios|            10.1|\n",
            "+-------+--------+----------------+\n",
            "only showing top 5 rows\n",
            "\n"
          ],
          "name": "stdout"
        }
      ]
    },
    {
      "cell_type": "code",
      "metadata": {
        "id": "DkfgmpLJ8hH5",
        "colab_type": "code",
        "colab": {
          "base_uri": "https://localhost:8080/",
          "height": 206
        },
        "outputId": "ca72f8b9-1613-44d6-96f8-fd707623070e"
      },
      "source": [
        "device_df.where(\"platform == 'ios' and platform_version like '%.1%'\").show(5)"
      ],
      "execution_count": 26,
      "outputs": [
        {
          "output_type": "stream",
          "text": [
            "+------+-------+--------+----------------+---------+-----------+\n",
            "|use_id|user_id|platform|platform_version|   device|use_type_id|\n",
            "+------+-------+--------+----------------+---------+-----------+\n",
            "| 22797|  29642|     ios|            10.1|iPhone5,2|          3|\n",
            "| 22798|  29642|     ios|            10.1|iPhone5,2|          3|\n",
            "| 22825|  26668|     ios|            10.1|iPhone9,4|          2|\n",
            "| 22826|  26668|     ios|            10.1|iPhone9,4|          2|\n",
            "| 22829|  29653|     ios|            10.1|iPhone7,2|          2|\n",
            "+------+-------+--------+----------------+---------+-----------+\n",
            "only showing top 5 rows\n",
            "\n"
          ],
          "name": "stdout"
        }
      ]
    },
    {
      "cell_type": "markdown",
      "metadata": {
        "id": "71si9ORL8hH9",
        "colab_type": "text"
      },
      "source": [
        "Count number of rows"
      ]
    },
    {
      "cell_type": "code",
      "metadata": {
        "id": "59hq4mcF8hH-",
        "colab_type": "code",
        "colab": {
          "base_uri": "https://localhost:8080/",
          "height": 34
        },
        "outputId": "faa5d9b8-825a-45d1-9c14-6cb0194f302b"
      },
      "source": [
        "device_df.count()"
      ],
      "execution_count": 27,
      "outputs": [
        {
          "output_type": "execute_result",
          "data": {
            "text/plain": [
              "272"
            ]
          },
          "metadata": {
            "tags": []
          },
          "execution_count": 27
        }
      ]
    },
    {
      "cell_type": "markdown",
      "metadata": {
        "id": "zFrPNcZA8hIB",
        "colab_type": "text"
      },
      "source": [
        "Show statistics"
      ]
    },
    {
      "cell_type": "code",
      "metadata": {
        "id": "5dZw5WJg8hIB",
        "colab_type": "code",
        "colab": {
          "base_uri": "https://localhost:8080/",
          "height": 188
        },
        "outputId": "1ad83485-81a6-46c4-91a5-60565b3e593f"
      },
      "source": [
        "usage_df.describe().show()"
      ],
      "execution_count": 28,
      "outputs": [
        {
          "output_type": "stream",
          "text": [
            "+-------+-----------------------+----------------------+------------------+------------------+\n",
            "|summary|outgoing_mins_per_month|outgoing_sms_per_month|        monthly_mb|            use_id|\n",
            "+-------+-----------------------+----------------------+------------------+------------------+\n",
            "|  count|                    240|                   240|               240|               240|\n",
            "|   mean|     274.55916666666667|     98.96829166666666|3628.6020416666647|23285.516666666666|\n",
            "| stddev|     293.74574441310455|    111.17268546411792| 4486.311513407213|   624.13925309376|\n",
            "|    min|                    0.5|                  0.25|                 0|             22787|\n",
            "|    max|                 993.35|                 99.85|           9854.79|             25220|\n",
            "+-------+-----------------------+----------------------+------------------+------------------+\n",
            "\n"
          ],
          "name": "stdout"
        }
      ]
    },
    {
      "cell_type": "markdown",
      "metadata": {
        "id": "9hX7YAy18hIE",
        "colab_type": "text"
      },
      "source": [
        "Operations: subtract, union, intersect.\n",
        "\n",
        "Here is a dataframe of use_id in device_df but not in usage_df"
      ]
    },
    {
      "cell_type": "code",
      "metadata": {
        "id": "TAgyIeyS8hIE",
        "colab_type": "code",
        "colab": {
          "base_uri": "https://localhost:8080/",
          "height": 206
        },
        "outputId": "763fb8a8-8495-4f4f-ad3a-a75a8041e350"
      },
      "source": [
        "device_df.select('use_id').subtract(usage_df.select('use_id')).show(5)"
      ],
      "execution_count": 29,
      "outputs": [
        {
          "output_type": "stream",
          "text": [
            "+------+\n",
            "|use_id|\n",
            "+------+\n",
            "| 22893|\n",
            "| 22919|\n",
            "| 22800|\n",
            "| 22923|\n",
            "| 22821|\n",
            "+------+\n",
            "only showing top 5 rows\n",
            "\n"
          ],
          "name": "stdout"
        }
      ]
    },
    {
      "cell_type": "markdown",
      "metadata": {
        "id": "DpxwTmcG8hIH",
        "colab_type": "text"
      },
      "source": [
        "Here is a dataframe of use_id in device_df or usage_df"
      ]
    },
    {
      "cell_type": "code",
      "metadata": {
        "id": "Dg4_AatG8hII",
        "colab_type": "code",
        "colab": {
          "base_uri": "https://localhost:8080/",
          "height": 206
        },
        "outputId": "59f6d730-57a5-4b3e-f06c-cafe87ef3c5b"
      },
      "source": [
        "device_df.select('use_id').union(usage_df.select('use_id')).show(5)"
      ],
      "execution_count": 30,
      "outputs": [
        {
          "output_type": "stream",
          "text": [
            "+------+\n",
            "|use_id|\n",
            "+------+\n",
            "| 22782|\n",
            "| 22783|\n",
            "| 22784|\n",
            "| 22785|\n",
            "| 22786|\n",
            "+------+\n",
            "only showing top 5 rows\n",
            "\n"
          ],
          "name": "stdout"
        }
      ]
    },
    {
      "cell_type": "markdown",
      "metadata": {
        "id": "gPaTCl4S8hIM",
        "colab_type": "text"
      },
      "source": [
        "Here is a dataframe of use_id in both device_df and usage_df"
      ]
    },
    {
      "cell_type": "code",
      "metadata": {
        "id": "w1Wiw7bx8hIM",
        "colab_type": "code",
        "colab": {
          "base_uri": "https://localhost:8080/",
          "height": 206
        },
        "outputId": "d94f2ca2-4ae4-42c8-b2d6-9907337528ce"
      },
      "source": [
        "device_df.select('use_id').intersect(usage_df.select('use_id')).show(5)"
      ],
      "execution_count": 31,
      "outputs": [
        {
          "output_type": "stream",
          "text": [
            "+------+\n",
            "|use_id|\n",
            "+------+\n",
            "| 22920|\n",
            "| 22831|\n",
            "| 22922|\n",
            "| 22875|\n",
            "| 22895|\n",
            "+------+\n",
            "only showing top 5 rows\n",
            "\n"
          ],
          "name": "stdout"
        }
      ]
    },
    {
      "cell_type": "markdown",
      "metadata": {
        "id": "UrGfPLwh8hIP",
        "colab_type": "text"
      },
      "source": [
        "Inner join"
      ]
    },
    {
      "cell_type": "code",
      "metadata": {
        "id": "dERi5-wx8hIQ",
        "colab_type": "code",
        "colab": {
          "base_uri": "https://localhost:8080/",
          "height": 206
        },
        "outputId": "5374869d-5134-4d03-f3b5-0451ff5080e8"
      },
      "source": [
        "device_df.join(usage_df, device_df.use_id == usage_df.use_id,\"inner\").select('*').show(5)"
      ],
      "execution_count": 32,
      "outputs": [
        {
          "output_type": "stream",
          "text": [
            "+------+-------+--------+----------------+--------+-----------+-----------------------+----------------------+----------+------+\n",
            "|use_id|user_id|platform|platform_version|  device|use_type_id|outgoing_mins_per_month|outgoing_sms_per_month|monthly_mb|use_id|\n",
            "+------+-------+--------+----------------+--------+-----------+-----------------------+----------------------+----------+------+\n",
            "| 22787|  12921| android|             4.3|GT-I9505|          1|                  21.97|                  4.82|   1557.33| 22787|\n",
            "| 22788|  28714| android|               6|SM-G930F|          1|                1710.08|                136.88|   7267.55| 22788|\n",
            "| 22789|  28714| android|               6|SM-G930F|          1|                1710.08|                136.88|   7267.55| 22789|\n",
            "| 22790|  29592| android|             5.1|   D2303|          1|                  94.46|                 35.17|    519.12| 22790|\n",
            "| 22792|  28217| android|             5.1|SM-G361F|          1|                  71.59|                 79.26|   1557.33| 22792|\n",
            "+------+-------+--------+----------------+--------+-----------+-----------------------+----------------------+----------+------+\n",
            "only showing top 5 rows\n",
            "\n"
          ],
          "name": "stdout"
        }
      ]
    },
    {
      "cell_type": "markdown",
      "metadata": {
        "id": "0NSq9j5X8hIT",
        "colab_type": "text"
      },
      "source": [
        "Right join"
      ]
    },
    {
      "cell_type": "code",
      "metadata": {
        "id": "8ULzrC6O8hIU",
        "colab_type": "code",
        "colab": {
          "base_uri": "https://localhost:8080/",
          "height": 206
        },
        "outputId": "ca3e8824-2186-482e-f316-577f14c92594"
      },
      "source": [
        "device_df.join(usage_df, device_df.use_id == usage_df.use_id,\"right_outer\").select('*').show(5)"
      ],
      "execution_count": 33,
      "outputs": [
        {
          "output_type": "stream",
          "text": [
            "+------+-------+--------+----------------+--------+-----------+-----------------------+----------------------+----------+------+\n",
            "|use_id|user_id|platform|platform_version|  device|use_type_id|outgoing_mins_per_month|outgoing_sms_per_month|monthly_mb|use_id|\n",
            "+------+-------+--------+----------------+--------+-----------+-----------------------+----------------------+----------+------+\n",
            "| 22787|  12921| android|             4.3|GT-I9505|          1|                  21.97|                  4.82|   1557.33| 22787|\n",
            "| 22788|  28714| android|               6|SM-G930F|          1|                1710.08|                136.88|   7267.55| 22788|\n",
            "| 22789|  28714| android|               6|SM-G930F|          1|                1710.08|                136.88|   7267.55| 22789|\n",
            "| 22790|  29592| android|             5.1|   D2303|          1|                  94.46|                 35.17|    519.12| 22790|\n",
            "| 22792|  28217| android|             5.1|SM-G361F|          1|                  71.59|                 79.26|   1557.33| 22792|\n",
            "+------+-------+--------+----------------+--------+-----------+-----------------------+----------------------+----------+------+\n",
            "only showing top 5 rows\n",
            "\n"
          ],
          "name": "stdout"
        }
      ]
    },
    {
      "cell_type": "markdown",
      "metadata": {
        "id": "Ikk18Quw8hIX",
        "colab_type": "text"
      },
      "source": [
        "Left join"
      ]
    },
    {
      "cell_type": "code",
      "metadata": {
        "id": "yW-8r_Mt8hIY",
        "colab_type": "code",
        "colab": {
          "base_uri": "https://localhost:8080/",
          "height": 206
        },
        "outputId": "0eca6b63-73ef-4d69-aafe-94c706a6ff02"
      },
      "source": [
        "device_df.join(usage_df, device_df.use_id == usage_df.use_id,\"left_outer\").select('*').show(5)"
      ],
      "execution_count": 34,
      "outputs": [
        {
          "output_type": "stream",
          "text": [
            "+------+-------+--------+----------------+---------+-----------+-----------------------+----------------------+----------+------+\n",
            "|use_id|user_id|platform|platform_version|   device|use_type_id|outgoing_mins_per_month|outgoing_sms_per_month|monthly_mb|use_id|\n",
            "+------+-------+--------+----------------+---------+-----------+-----------------------+----------------------+----------+------+\n",
            "| 22782|  26980|     ios|            10.2|iPhone7,2|          2|                   null|                  null|      null|  null|\n",
            "| 22783|  29628| android|               6|  Nexus 5|          3|                   null|                  null|      null|  null|\n",
            "| 22784|  28473| android|             5.1| SM-G903F|          1|                   null|                  null|      null|  null|\n",
            "| 22785|  15200|     ios|            10.2|iPhone7,2|          3|                   null|                  null|      null|  null|\n",
            "| 22786|  28239| android|               6|ONE E1003|          1|                   null|                  null|      null|  null|\n",
            "+------+-------+--------+----------------+---------+-----------+-----------------------+----------------------+----------+------+\n",
            "only showing top 5 rows\n",
            "\n"
          ],
          "name": "stdout"
        }
      ]
    },
    {
      "cell_type": "markdown",
      "metadata": {
        "id": "0NDFCdIa8hIc",
        "colab_type": "text"
      },
      "source": [
        "Full outer join"
      ]
    },
    {
      "cell_type": "code",
      "metadata": {
        "id": "zRO80n4a8hIc",
        "colab_type": "code",
        "colab": {
          "base_uri": "https://localhost:8080/",
          "height": 206
        },
        "outputId": "ba902b0a-f530-4e7e-fb4c-c88508dd7882"
      },
      "source": [
        "device_df.join(usage_df, device_df.use_id == usage_df.use_id,\"full_outer\").select('*').show(5)"
      ],
      "execution_count": 35,
      "outputs": [
        {
          "output_type": "stream",
          "text": [
            "+------+-------+--------+----------------+---------+-----------+-----------------------+----------------------+----------+------+\n",
            "|use_id|user_id|platform|platform_version|   device|use_type_id|outgoing_mins_per_month|outgoing_sms_per_month|monthly_mb|use_id|\n",
            "+------+-------+--------+----------------+---------+-----------+-----------------------+----------------------+----------+------+\n",
            "| 22893|  29672|     ios|            10.1|iPhone9,3|          3|                   null|                  null|      null|  null|\n",
            "| 22920|  18833| android|               6|    D6603|          1|                 362.01|                 14.19|   7267.55| 22920|\n",
            "| 22831|   6541| android|             4.1|GT-I8190N|          1|                  85.97|                 26.94|    407.01| 22831|\n",
            "| 22919|  29679|     ios|            10.1|  iPad4,1|          3|                   null|                  null|      null|  null|\n",
            "| 22922|  28845| android|               6|  LG-H815|          1|                 155.71|                 10.14|   1557.33| 22922|\n",
            "+------+-------+--------+----------------+---------+-----------+-----------------------+----------------------+----------+------+\n",
            "only showing top 5 rows\n",
            "\n"
          ],
          "name": "stdout"
        }
      ]
    },
    {
      "cell_type": "markdown",
      "metadata": {
        "id": "OZNg4ZCN8hIf",
        "colab_type": "text"
      },
      "source": [
        "Convert to RDD to map. Note that you can always convert a DataFrame to RDD"
      ]
    },
    {
      "cell_type": "code",
      "metadata": {
        "id": "qMgBwRd98hIf",
        "colab_type": "code",
        "colab": {
          "base_uri": "https://localhost:8080/",
          "height": 188
        },
        "outputId": "aaf5eb31-33a3-420a-ac9d-894c5939a1bc"
      },
      "source": [
        "device_df.rdd.map(lambda x:(x,1)).take(5)"
      ],
      "execution_count": 36,
      "outputs": [
        {
          "output_type": "execute_result",
          "data": {
            "text/plain": [
              "[(Row(use_id='22782', user_id='26980', platform='ios', platform_version='10.2', device='iPhone7,2', use_type_id='2'),\n",
              "  1),\n",
              " (Row(use_id='22783', user_id='29628', platform='android', platform_version='6', device='Nexus 5', use_type_id='3'),\n",
              "  1),\n",
              " (Row(use_id='22784', user_id='28473', platform='android', platform_version='5.1', device='SM-G903F', use_type_id='1'),\n",
              "  1),\n",
              " (Row(use_id='22785', user_id='15200', platform='ios', platform_version='10.2', device='iPhone7,2', use_type_id='3'),\n",
              "  1),\n",
              " (Row(use_id='22786', user_id='28239', platform='android', platform_version='6', device='ONE E1003', use_type_id='1'),\n",
              "  1)]"
            ]
          },
          "metadata": {
            "tags": []
          },
          "execution_count": 36
        }
      ]
    },
    {
      "cell_type": "code",
      "metadata": {
        "id": "I4rNm5Iw8hIh",
        "colab_type": "code",
        "colab": {
          "base_uri": "https://localhost:8080/",
          "height": 171
        },
        "outputId": "939de5f2-8d5e-4c4b-92b2-671370d490bf"
      },
      "source": [
        "import pyspark.sql.functions as func\n",
        "device_df.withColumn('platform_version_main_changes', func.round(device_df.platform_version,0)).show(3)"
      ],
      "execution_count": 37,
      "outputs": [
        {
          "output_type": "stream",
          "text": [
            "+------+-------+--------+----------------+---------+-----------+-----------------------------+\n",
            "|use_id|user_id|platform|platform_version|   device|use_type_id|platform_version_main_changes|\n",
            "+------+-------+--------+----------------+---------+-----------+-----------------------------+\n",
            "| 22782|  26980|     ios|            10.2|iPhone7,2|          2|                         10.0|\n",
            "| 22783|  29628| android|               6|  Nexus 5|          3|                          6.0|\n",
            "| 22784|  28473| android|             5.1| SM-G903F|          1|                          5.0|\n",
            "+------+-------+--------+----------------+---------+-----------+-----------------------------+\n",
            "only showing top 3 rows\n",
            "\n"
          ],
          "name": "stdout"
        }
      ]
    }
  ]
}