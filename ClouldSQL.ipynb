{
  "nbformat": 4,
  "nbformat_minor": 0,
  "metadata": {
    "colab": {
      "name": "Getting started with BigQuery",
      "provenance": [],
      "collapsed_sections": [],
      "include_colab_link": true
    },
    "kernelspec": {
      "display_name": "Python 3",
      "name": "python3"
    }
  },
  "cells": [
    {
      "cell_type": "markdown",
      "metadata": {
        "id": "view-in-github",
        "colab_type": "text"
      },
      "source": [
        "<a href=\"https://colab.research.google.com/github/waltz2u/bd/blob/master/ClouldSQL.ipynb\" target=\"_parent\"><img src=\"https://colab.research.google.com/assets/colab-badge.svg\" alt=\"Open In Colab\"/></a>"
      ]
    },
    {
      "cell_type": "markdown",
      "metadata": {
        "colab_type": "text",
        "id": "KcAZ2RHCg_Ze"
      },
      "source": [
        "# Before you begin\n",
        "\n",
        "\n",
        "1.   Use the [Cloud Resource Manager](https://console.cloud.google.com/cloud-resource-manager) to Create a Cloud Platform project if you do not already have one.\n",
        "2.   [Enable billing](https://support.google.com/cloud/answer/6293499#enable-billing) for the project.\n",
        "3.   [Enable BigQuery](https://console.cloud.google.com/flows/enableapi?apiid=bigquery) APIs for the project.\n"
      ]
    },
    {
      "cell_type": "markdown",
      "metadata": {
        "colab_type": "text",
        "id": "qTmLBxDxBAZL"
      },
      "source": [
        "### Provide your credentials to the runtime"
      ]
    },
    {
      "cell_type": "code",
      "metadata": {
        "colab_type": "code",
        "id": "SeTJb51SKs_W",
        "outputId": "dfbdf041-fd1d-4e3c-bc6b-127cb1d9fe3a",
        "colab": {
          "base_uri": "https://localhost:8080/",
          "height": 35
        }
      },
      "source": [
        "from google.colab import auth\n",
        "auth.authenticate_user()\n",
        "print('Authenticated')"
      ],
      "execution_count": 1,
      "outputs": [
        {
          "output_type": "stream",
          "text": [
            "Authenticated\n"
          ],
          "name": "stdout"
        }
      ]
    },
    {
      "cell_type": "markdown",
      "metadata": {
        "colab_type": "text",
        "id": "UMKGkkZEPVRu"
      },
      "source": [
        "## Optional: Enable data table display\n",
        "\n",
        "Colab includes the ``google.colab.data_table`` package that can be used to display large pandas dataframes as an interactive data table.\n",
        "It can be enabled with:"
      ]
    },
    {
      "cell_type": "code",
      "metadata": {
        "colab_type": "code",
        "id": "LMNA-vBHPyHz",
        "colab": {}
      },
      "source": [
        "%load_ext google.colab.data_table"
      ],
      "execution_count": 0,
      "outputs": []
    },
    {
      "cell_type": "markdown",
      "metadata": {
        "colab_type": "text",
        "id": "y7QuudxdP0jH"
      },
      "source": [
        "If you would prefer to return to the classic Pandas dataframe display, you can disable this by running:\n",
        "```python\n",
        "%unload_ext google.colab.data_table\n",
        "```"
      ]
    },
    {
      "cell_type": "markdown",
      "metadata": {
        "colab_type": "text",
        "id": "OHCBQv4uTCPc"
      },
      "source": [
        "# Use BigQuery via magics\n",
        "\n",
        "The `google.cloud.bigquery` library also includes a magic command which runs a query and either displays the result or saves it to a variable as a `DataFrame`."
      ]
    },
    {
      "cell_type": "code",
      "metadata": {
        "colab_type": "code",
        "id": "DMxOKQ3vJplj",
        "outputId": "8955e460-38ab-44c7-9579-2fe07fda70a5",
        "colab": {
          "base_uri": "https://localhost:8080/",
          "height": 1000
        }
      },
      "source": [
        "https://stackoverflow.com/questions/53180140/how-to-access-cloud-sql-from-google-colab\n",
        "\n",
        "# gcloud login and check the DB\n",
        "!gcloud auth login\n",
        "!gcloud config set project 'bigquery-207917'\n",
        "!gcloud sql instances describe 'mydb'"
      ],
      "execution_count": 3,
      "outputs": [
        {
          "output_type": "stream",
          "text": [
            "Go to the following link in your browser:\n",
            "\n",
            "    https://accounts.google.com/o/oauth2/auth?code_challenge=pMSNWfvgQdaWVHw3GZkp684PFzrsMu8GCGdTfolloYs&prompt=select_account&code_challenge_method=S256&access_type=offline&redirect_uri=urn%3Aietf%3Awg%3Aoauth%3A2.0%3Aoob&response_type=code&client_id=32555940559.apps.googleusercontent.com&scope=https%3A%2F%2Fwww.googleapis.com%2Fauth%2Fuserinfo.email+https%3A%2F%2Fwww.googleapis.com%2Fauth%2Fcloud-platform+https%3A%2F%2Fwww.googleapis.com%2Fauth%2Fappengine.admin+https%3A%2F%2Fwww.googleapis.com%2Fauth%2Fcompute+https%3A%2F%2Fwww.googleapis.com%2Fauth%2Faccounts.reauth\n",
            "\n",
            "\n",
            "Enter verification code: 4/swFFT8Y3vk9qka8hofXl8OQF3DLBxjWCbnwVrBxzZiD09SAuiH6DMmQ\n",
            "\u001b[1;33mWARNING:\u001b[0m `gcloud auth login` no longer writes application default credentials.\n",
            "If you need to use ADC, see:\n",
            "  gcloud auth application-default --help\n",
            "\n",
            "You are now logged in as [cuongdo.uconn@gmail.com].\n",
            "Your current project is [bigquery-207917].  You can change this setting by running:\n",
            "  $ gcloud config set project PROJECT_ID\n",
            "Updated property [core/project].\n",
            "backendType: SECOND_GEN\n",
            "connectionName: bigquery-207917:us-central1:mydb\n",
            "databaseVersion: MYSQL_5_7\n",
            "etag: 935c58d662110f7d1160d47932f6ee4c668412e928d2ba58d4c2eb766f39510a\n",
            "gceZone: us-central1-c\n",
            "instanceType: CLOUD_SQL_INSTANCE\n",
            "ipAddresses:\n",
            "- ipAddress: 35.223.98.180\n",
            "  type: PRIMARY\n",
            "kind: sql#instance\n",
            "name: mydb\n",
            "project: bigquery-207917\n",
            "region: us-central1\n",
            "selfLink: https://www.googleapis.com/sql/v1beta4/projects/bigquery-207917/instances/mydb\n",
            "serverCaCert:\n",
            "  cert: |-\n",
            "    -----BEGIN CERTIFICATE-----\n",
            "    MIIDfzCCAmegAwIBAgIBADANBgkqhkiG9w0BAQsFADB3MS0wKwYDVQQuEyRmNjk1\n",
            "    OWYzMC03YTI2LTQ4YWQtOTRkOC1mNzdiY2Q5Y2Y4M2YxIzAhBgNVBAMTGkdvb2ds\n",
            "    ZSBDbG91ZCBTUUwgU2VydmVyIENBMRQwEgYDVQQKEwtHb29nbGUsIEluYzELMAkG\n",
            "    A1UEBhMCVVMwHhcNMTkxMTA3MDAzOTIxWhcNMjkxMTA0MDA0MDIxWjB3MS0wKwYD\n",
            "    VQQuEyRmNjk1OWYzMC03YTI2LTQ4YWQtOTRkOC1mNzdiY2Q5Y2Y4M2YxIzAhBgNV\n",
            "    BAMTGkdvb2dsZSBDbG91ZCBTUUwgU2VydmVyIENBMRQwEgYDVQQKEwtHb29nbGUs\n",
            "    IEluYzELMAkGA1UEBhMCVVMwggEiMA0GCSqGSIb3DQEBAQUAA4IBDwAwggEKAoIB\n",
            "    AQDDU2rHT1l9Vg5cLhN4FJbvKLwU0qRmEhsI0HTnbrDY0RZBQPxSI9Na9VKaiB1Y\n",
            "    ZmBISoCMWUam/kW7LBwWq9v6yxPVpxIYInutU82OPGFvTr+DVJ/c0iiW04r2XzoJ\n",
            "    xN+stgh2JSg4tglNbuRtJ5TE+0MzRnycJ+dKp5YYFiDdWgqXCP3NQsKfmng/mqHe\n",
            "    WGEn/KSRBHh/qOdH6vTY8pLFqWWOABdhvwe98UycSxxiKsxABEG3hEOURyP1VFe3\n",
            "    X4eht16ib4cvPoCkM0GZiUwW8JC/XSPob9gG/b/XR/jsP8GW+pw1Qdftmju5agv8\n",
            "    KCST5Vqlcz1I9kKorDZJcBS/AgMBAAGjFjAUMBIGA1UdEwEB/wQIMAYBAf8CAQAw\n",
            "    DQYJKoZIhvcNAQELBQADggEBAEMf2e6VVhrWYNS3dIja6AoKjoFYASQt7F/Eng6P\n",
            "    SxPMaBUGj2kVQEJ9sVk6HiI2k6yOKyWeVlyo32xI/a057lHjzqRc6MpjC8QWEZ6L\n",
            "    OFc/UkH2HEuJJtotwKUkaMKuaKZ4o9xZbmwrtOQRO2RNW6BhRNtGrn/eebhApRKO\n",
            "    zfhoKnAJVemRoLkkAshoOc63df+wUduetLz6PqqJXRlLCKv5pDg60ySP75WOyZv4\n",
            "    eZ59NfPR58GOez4yc4VoNuyCwC8yRGCvvNn3tUGPELSok1mOjRgjxOJH3Mc4VOdG\n",
            "    B4XC9K3T/fmjjh80ToXaVr0hclOAINQhGiH+4xS9NODxyu8=\n",
            "    -----END CERTIFICATE-----\n",
            "  certSerialNumber: '0'\n",
            "  commonName: C=US,O=Google\\, Inc,CN=Google Cloud SQL Server CA,dnQualifier=f6959f30-7a26-48ad-94d8-f77bcd9cf83f\n",
            "  createTime: '2019-11-07T00:39:21.639000+00:00'\n",
            "  expirationTime: '2029-11-04T00:40:21.639000+00:00'\n",
            "  instance: mydb\n",
            "  kind: sql#sslCert\n",
            "  sha1Fingerprint: a0817bf44ea1ba257ae203fd81950d1f4b440b6f\n",
            "serviceAccountEmailAddress: p374237647863-azygth@gcp-sa-cloud-sql.iam.gserviceaccount.com\n",
            "settings:\n",
            "  activationPolicy: ALWAYS\n",
            "  availabilityType: ZONAL\n",
            "  backupConfiguration:\n",
            "    binaryLogEnabled: true\n",
            "    enabled: true\n",
            "    kind: sql#backupConfiguration\n",
            "    startTime: 03:00\n",
            "  dataDiskSizeGb: '10'\n",
            "  dataDiskType: PD_SSD\n",
            "  ipConfiguration:\n",
            "    ipv4Enabled: true\n",
            "  kind: sql#settings\n",
            "  locationPreference:\n",
            "    kind: sql#locationPreference\n",
            "    zone: us-central1-c\n",
            "  maintenanceWindow:\n",
            "    day: 0\n",
            "    hour: 0\n",
            "    kind: sql#maintenanceWindow\n",
            "  pricingPlan: PER_USE\n",
            "  replicationType: SYNCHRONOUS\n",
            "  settingsVersion: '3'\n",
            "  storageAutoResize: true\n",
            "  storageAutoResizeLimit: '0'\n",
            "  tier: db-n1-standard-1\n",
            "state: RUNNABLE\n"
          ],
          "name": "stdout"
        }
      ]
    },
    {
      "cell_type": "code",
      "metadata": {
        "id": "-_5ZzOn-kEBj",
        "colab_type": "code",
        "colab": {
          "base_uri": "https://localhost:8080/",
          "height": 231
        },
        "outputId": "ebb3c8b2-cd1f-416c-c9f9-a5443b6fd870"
      },
      "source": [
        "# download and initialize the psql proxy\n",
        "!wget https://dl.google.com/cloudsql/cloud_sql_proxy.linux.amd64 -O cloud_sql_proxy\n",
        "!chmod +x cloud_sql_proxy\n",
        "# \"connectionName\" is from the previous block\n",
        "!nohup ./cloud_sql_proxy -instances=\"bigquery-207917:us-central1:mydb\"=tcp:3306 &\n",
        "!sleep 30s\n",
        "\n"
      ],
      "execution_count": 12,
      "outputs": [
        {
          "output_type": "stream",
          "text": [
            "--2019-11-07 02:19:04--  https://dl.google.com/cloudsql/cloud_sql_proxy.linux.amd64\n",
            "Resolving dl.google.com (dl.google.com)... 172.217.203.136, 172.217.203.93, 172.217.203.91, ...\n",
            "Connecting to dl.google.com (dl.google.com)|172.217.203.136|:443... connected.\n",
            "HTTP request sent, awaiting response... 200 OK\n",
            "Length: 14492253 (14M) [application/octet-stream]\n",
            "Saving to: ‘cloud_sql_proxy’\n",
            "\n",
            "\rcloud_sql_proxy       0%[                    ]       0  --.-KB/s               \rcloud_sql_proxy     100%[===================>]  13.82M  --.-KB/s    in 0.04s   \n",
            "\n",
            "2019-11-07 02:19:04 (339 MB/s) - ‘cloud_sql_proxy’ saved [14492253/14492253]\n",
            "\n",
            "nohup: appending output to 'nohup.out'\n"
          ],
          "name": "stdout"
        }
      ]
    },
    {
      "cell_type": "code",
      "metadata": {
        "id": "Sf6f56Q1lpMm",
        "colab_type": "code",
        "colab": {}
      },
      "source": [
        "# do pip install psycopg2 before using\n",
        "\n",
        "import psycopg2\n",
        "conn = psycopg2.connect(host='35.223.98.180', port='3306', database='mydb', user='root', password='')"
      ],
      "execution_count": 0,
      "outputs": []
    }
  ]
}