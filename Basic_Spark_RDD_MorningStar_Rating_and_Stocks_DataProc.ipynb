{
  "nbformat": 4,
  "nbformat_minor": 0,
  "metadata": {
    "kernelspec": {
      "display_name": "PySpark",
      "name": "pyspark",
      "language": "python"
    },
    "language_info": {
      "mimetype": "text/x-python",
      "nbconvert_exporter": "python",
      "version": "2.7.14",
      "name": "python",
      "file_extension": ".py",
      "pygments_lexer": "ipython2",
      "codemirror_mode": {
        "version": 2,
        "name": "ipython"
      }
    },
    "colab": {
      "name": "Basic_Spark_RDD_MorningStar_Rating_and_Stocks_DataProc.ipynb",
      "provenance": [],
      "include_colab_link": true
    }
  },
  "cells": [
    {
      "cell_type": "markdown",
      "metadata": {
        "id": "view-in-github",
        "colab_type": "text"
      },
      "source": [
        "<a href=\"https://colab.research.google.com/github/waltz2u/bd/blob/master/Basic_Spark_RDD_MorningStar_Rating_and_Stocks_DataProc.ipynb\" target=\"_parent\"><img src=\"https://colab.research.google.com/assets/colab-badge.svg\" alt=\"Open In Colab\"/></a>"
      ]
    },
    {
      "cell_type": "markdown",
      "metadata": {
        "id": "gsNgSSD0hlwy",
        "colab_type": "text"
      },
      "source": [
        "# Basic Spark RDD with MorningStar Rating and Stock data¶"
      ]
    },
    {
      "cell_type": "code",
      "metadata": {
        "id": "gEcpvtgxhlw6",
        "colab_type": "code",
        "colab": {}
      },
      "source": [
        "from pyspark.sql import SparkSession\n",
        "spark = SparkSession.builder.master(\"local[*]\").getOrCreate() #"
      ],
      "execution_count": 0,
      "outputs": []
    },
    {
      "cell_type": "markdown",
      "metadata": {
        "id": "pfB1iQXMhlw-",
        "colab_type": "text"
      },
      "source": [
        "## MorningStar Ratings"
      ]
    },
    {
      "cell_type": "code",
      "metadata": {
        "id": "tZ4gKd3Ghlw_",
        "colab_type": "code",
        "colab": {},
        "outputId": "83de97b4-4943-4954-a69d-9918bd3377a2"
      },
      "source": [
        "lines = spark.sparkContext.textFile('gs://us-demo/morningstar.csv')\n",
        "lines.take(3)"
      ],
      "execution_count": 0,
      "outputs": [
        {
          "output_type": "execute_result",
          "data": {
            "text/plain": [
              "[u'ProFunds Short Precious Metals Inv,SPPIX,NA',\n",
              " u'ProFunds Short Precious Metals Svc,SPPSX,NA',\n",
              " u'ProFunds Biotechnology UltraSector Inv,BIPIX,4']"
            ]
          },
          "metadata": {
            "tags": []
          },
          "execution_count": 5
        }
      ]
    },
    {
      "cell_type": "code",
      "metadata": {
        "id": "EErLgd1UhlxQ",
        "colab_type": "code",
        "colab": {},
        "outputId": "ce3bb7d3-57a9-4056-8fd6-dbcf95e46705"
      },
      "source": [
        "ratings = lines.map(lambda x: x.split(',')[2])\n",
        "ratings.take(10)"
      ],
      "execution_count": 0,
      "outputs": [
        {
          "output_type": "execute_result",
          "data": {
            "text/plain": [
              "[u'NA', u'NA', u'4', u'3', u'5', u'5', u'4', u'4', u'4', u'4']"
            ]
          },
          "metadata": {
            "tags": []
          },
          "execution_count": 6
        }
      ]
    },
    {
      "cell_type": "code",
      "metadata": {
        "id": "cdBVx5K8hlxT",
        "colab_type": "code",
        "colab": {},
        "outputId": "ffb9216e-4900-40a2-d35a-56bea12a99af"
      },
      "source": [
        "result = ratings.countByValue()\n",
        "print(result)"
      ],
      "execution_count": 0,
      "outputs": [
        {
          "output_type": "stream",
          "text": [
            "defaultdict(<type 'int'>, {u'1': 24, u'NA': 19, u'3': 19, u'5': 18, u'4': 19})\n"
          ],
          "name": "stdout"
        }
      ]
    },
    {
      "cell_type": "code",
      "metadata": {
        "id": "9a2l915ihlxb",
        "colab_type": "code",
        "colab": {},
        "outputId": "1d5d90c8-41f9-4e88-bc80-c15f01d5f96d"
      },
      "source": [
        "import collections\n",
        "sortedCounts = collections.OrderedDict(sorted(result.items()))\n",
        "for key, value in sortedCounts.items():\n",
        "    print (\"%s %i\" % (key, value))"
      ],
      "execution_count": 0,
      "outputs": [
        {
          "output_type": "stream",
          "text": [
            "1 24\n",
            "3 19\n",
            "4 19\n",
            "5 18\n",
            "NA 19\n"
          ],
          "name": "stdout"
        }
      ]
    },
    {
      "cell_type": "markdown",
      "metadata": {
        "id": "B6PUGcE4hlxf",
        "colab_type": "text"
      },
      "source": [
        "## Mean Price by Month¶"
      ]
    },
    {
      "cell_type": "markdown",
      "metadata": {
        "id": "3gDKQQxEhlxg",
        "colab_type": "text"
      },
      "source": [
        "Given date and stock price, returns average price by month"
      ]
    },
    {
      "cell_type": "code",
      "metadata": {
        "id": "N6l6j6AThlxh",
        "colab_type": "code",
        "colab": {},
        "outputId": "ad929e6b-d3e0-44e1-8a72-bc8a4200942b"
      },
      "source": [
        "# this function gets month, year and adjusted closed price\n",
        "def parseLine(line):\n",
        "    fields = line.split(',')\n",
        "    datetimedata = fields[0]\n",
        "    datetimearray = datetimedata.split('/')\n",
        "    monthyear = datetimearray[0]+datetimearray[2]\n",
        "    adjclose = float(fields[6])\n",
        "    return (monthyear, adjclose)\n",
        "\n",
        "lines = spark.sparkContext.textFile(\"gs://us-demo/adjclose.csv\")\n",
        "\n",
        "# lines is an RDD, take some to check\n",
        "lines.take(3)"
      ],
      "execution_count": 0,
      "outputs": [
        {
          "output_type": "execute_result",
          "data": {
            "text/plain": [
              "[u'1/28/2015,49.799999,50.32,46.299999,46.459999,84839700,46.459999',\n",
              " u'1/27/2015,49.139999,49.279999,47.66,47.990002,45777200,47.990002',\n",
              " u'1/26/2015,49.57,49.790001,49.07,49.439999,18976400,49.439999']"
            ]
          },
          "metadata": {
            "tags": []
          },
          "execution_count": 9
        }
      ]
    },
    {
      "cell_type": "code",
      "metadata": {
        "id": "ot5s_kabhlxk",
        "colab_type": "code",
        "colab": {},
        "outputId": "232cab70-051e-4945-ea11-85409be6cf39"
      },
      "source": [
        "# gets month, year and adjusted closed price\n",
        "rdd = lines.map(parseLine)\n",
        "rdd.take(3)"
      ],
      "execution_count": 0,
      "outputs": [
        {
          "output_type": "execute_result",
          "data": {
            "text/plain": [
              "[(u'12015', 46.459999), (u'12015', 47.990002), (u'12015', 49.439999)]"
            ]
          },
          "metadata": {
            "tags": []
          },
          "execution_count": 10
        }
      ]
    },
    {
      "cell_type": "code",
      "metadata": {
        "id": "rrXb3NQThlxq",
        "colab_type": "code",
        "colab": {},
        "outputId": "1d54bcf8-25e8-44ea-a2b8-c82cbfb8b93e"
      },
      "source": [
        "# mapValues to gets a tuple of (adjusted price, 1) for each month\n",
        "rdd.mapValues(lambda x: (x, 1)).take(3)"
      ],
      "execution_count": 0,
      "outputs": [
        {
          "output_type": "execute_result",
          "data": {
            "text/plain": [
              "[(u'12015', (46.459999, 1)),\n",
              " (u'12015', (47.990002, 1)),\n",
              " (u'12015', (49.439999, 1))]"
            ]
          },
          "metadata": {
            "tags": []
          },
          "execution_count": 11
        }
      ]
    },
    {
      "cell_type": "code",
      "metadata": {
        "id": "Vtoz-Rx6hlxv",
        "colab_type": "code",
        "colab": {},
        "outputId": "525b6927-7e83-4443-f7a6-ce3fca953603"
      },
      "source": [
        "# then add tuples together using reduceByKey\n",
        "priceByMonthYear = rdd.mapValues(lambda x: (x, 1)).reduceByKey(lambda x, y: (x[0] + y[0], x[1] + y[1]))\n",
        "priceByMonthYear.take(3)"
      ],
      "execution_count": 0,
      "outputs": [
        {
          "output_type": "execute_result",
          "data": {
            "text/plain": [
              "[(u'102009', (372.749997, 22)),\n",
              " (u'42014', (735.050005, 21)),\n",
              " (u'32013', (454.3200039999999, 20))]"
            ]
          },
          "metadata": {
            "tags": []
          },
          "execution_count": 12
        }
      ]
    },
    {
      "cell_type": "code",
      "metadata": {
        "id": "YxPnTbsGhlx1",
        "colab_type": "code",
        "colab": {},
        "outputId": "0e2d518b-f1b4-45a7-d4a5-ab413703af47"
      },
      "source": [
        "# then finally mapValues to calculate average price \n",
        "averagesByMonthYear = priceByMonthYear.mapValues(lambda x: x[0] / x[1])\n",
        "results = averagesByMonthYear.collect()\n",
        "for result in results:\n",
        "    print (result)"
      ],
      "execution_count": 0,
      "outputs": [
        {
          "output_type": "stream",
          "text": [
            "(u'102009', 16.94318168181818)\n",
            "(u'42014', 35.00238119047619)\n",
            "(u'32013', 22.716000199999996)\n",
            "(u'32011', 16.660869608695652)\n",
            "(u'82010', 13.796363636363639)\n",
            "(u'82012', 15.226086956521744)\n",
            "(u'22012', 15.371500000000003)\n",
            "(u'22010', 15.268947368421053)\n",
            "(u'22014', 37.43578963157895)\n",
            "(u'12015', 48.438888722222224)\n",
            "(u'42012', 15.253499999999997)\n",
            "(u'62009', 15.957272772727272)\n",
            "(u'12013', 19.815714523809525)\n",
            "(u'52011', 16.98523780952381)\n",
            "(u'12011', 16.42199995)\n",
            "(u'92011', 14.10904761904762)\n",
            "(u'92013', 30.171500100000003)\n",
            "(u'72013', 27.304545590909093)\n",
            "(u'112013', 34.82449995)\n",
            "(u'72011', 14.505)\n",
            "(u'102010', 15.444761809523808)\n",
            "(u'102012', 16.12428576190476)\n",
            "(u'102014', 41.39391286956522)\n",
            "(u'112011', 15.508571428571432)\n",
            "(u'52013', 26.159545227272723)\n",
            "(u'82009', 14.75095238095238)\n",
            "(u'122014', 50.34045431818181)\n",
            "(u'122012', 19.413000049999997)\n",
            "(u'122010', 16.585909136363632)\n",
            "(u'82014', 36.87619052380952)\n",
            "(u'62014', 34.958571333333325)\n",
            "(u'62012', 15.420476190476192)\n",
            "(u'62010', 15.030454545454544)\n",
            "(u'42009', 14.212142857142856)\n",
            "(u'42010', 17.473333095238097)\n",
            "(u'122009', 15.916363545454544)\n",
            "(u'112009', 15.7105)\n",
            "(u'32014', 37.71476223809524)\n",
            "(u'32012', 15.002727272727277)\n",
            "(u'32010', 16.303913260869564)\n",
            "(u'82011', 12.88695652173913)\n",
            "(u'82013', 27.525454454545457)\n",
            "(u'22013', 20.689999894736843)\n",
            "(u'22011', 16.830000105263156)\n",
            "(u'42011', 16.8795004)\n",
            "(u'42013', 24.022272863636363)\n",
            "(u'12010', 16.455263315789477)\n",
            "(u'12012', 15.6760001)\n",
            "(u'92014', 40.67238080952381)\n",
            "(u'92010', 13.94047619047619)\n",
            "(u'112012', 17.97761919047619)\n",
            "(u'92012', 15.560000052631578)\n",
            "(u'72014', 35.097272409090905)\n",
            "(u'72012', 15.77476195238095)\n",
            "(u'72010', 14.474761904761904)\n",
            "(u'102011', 15.801428428571425)\n",
            "(u'102013', 33.45304330434782)\n",
            "(u'52010', 15.935499949999999)\n",
            "(u'52012', 15.358181818181817)\n",
            "(u'112014', 50.15157915789474)\n",
            "(u'52014', 34.76428557142857)\n",
            "(u'122013', 39.51238090476191)\n",
            "(u'122011', 15.678571333333334)\n",
            "(u'52009', 14.95)\n",
            "(u'62013', 25.911499999999997)\n",
            "(u'62011', 15.178181818181816)\n",
            "(u'72009', 15.763181909090912)\n",
            "(u'12014', 39.2552378095238)\n",
            "(u'112010', 16.419523761904763)\n",
            "(u'92009', 16.150952285714283)\n"
          ],
          "name": "stdout"
        }
      ]
    },
    {
      "cell_type": "code",
      "metadata": {
        "id": "orHp2N-chlx6",
        "colab_type": "code",
        "colab": {}
      },
      "source": [
        ""
      ],
      "execution_count": 0,
      "outputs": []
    }
  ]
}