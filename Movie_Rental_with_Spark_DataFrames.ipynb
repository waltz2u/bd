{
  "nbformat": 4,
  "nbformat_minor": 0,
  "metadata": {
    "colab": {
      "name": "Movie Rental with Spark DataFrames.ipynb",
      "provenance": [],
      "collapsed_sections": [],
      "include_colab_link": true
    },
    "kernelspec": {
      "name": "python3",
      "display_name": "Python 3"
    }
  },
  "cells": [
    {
      "cell_type": "markdown",
      "metadata": {
        "id": "view-in-github",
        "colab_type": "text"
      },
      "source": [
        "<a href=\"https://colab.research.google.com/github/waltz2u/bd/blob/master/Movie_Rental_with_Spark_DataFrames.ipynb\" target=\"_parent\"><img src=\"https://colab.research.google.com/assets/colab-badge.svg\" alt=\"Open In Colab\"/></a>"
      ]
    },
    {
      "cell_type": "markdown",
      "metadata": {
        "id": "NqzHxppVQ-hV",
        "colab_type": "text"
      },
      "source": [
        "Drive mounting"
      ]
    },
    {
      "cell_type": "code",
      "metadata": {
        "id": "9UdmcKQL7AhQ",
        "colab_type": "code",
        "colab": {}
      },
      "source": [
        "from google.colab import drive\n",
        "drive.mount('/content/gdrive')"
      ],
      "execution_count": 0,
      "outputs": []
    },
    {
      "cell_type": "markdown",
      "metadata": {
        "id": "813XE01rHm46",
        "colab_type": "text"
      },
      "source": [
        "## Setting things up"
      ]
    },
    {
      "cell_type": "code",
      "metadata": {
        "id": "kHwn4IpSNlyg",
        "colab_type": "code",
        "outputId": "37cb3025-a901-4c7b-9371-9700bd52be46",
        "colab": {
          "base_uri": "https://localhost:8080/",
          "height": 428
        }
      },
      "source": [
        "!apt-get update\n",
        "!apt-get install openjdk-8-jdk-headless -qq > /dev/null\n",
        "!wget -q https://archive.apache.org/dist/spark/spark-2.4.5/spark-2.4.5-bin-hadoop2.7.tgz\n",
        "!tar xf spark-2.4.5-bin-hadoop2.7.tgz\n",
        "!pip install -q findspark"
      ],
      "execution_count": 0,
      "outputs": [
        {
          "output_type": "stream",
          "text": [
            "\r0% [Working]\r            \rGet:1 https://cloud.r-project.org/bin/linux/ubuntu bionic-cran35/ InRelease [3,626 B]\n",
            "Ign:2 https://developer.download.nvidia.com/compute/cuda/repos/ubuntu1804/x86_64  InRelease\n",
            "Ign:3 https://developer.download.nvidia.com/compute/machine-learning/repos/ubuntu1804/x86_64  InRelease\n",
            "Hit:4 https://developer.download.nvidia.com/compute/cuda/repos/ubuntu1804/x86_64  Release\n",
            "Get:5 https://developer.download.nvidia.com/compute/machine-learning/repos/ubuntu1804/x86_64  Release [564 B]\n",
            "Get:6 https://developer.download.nvidia.com/compute/machine-learning/repos/ubuntu1804/x86_64  Release.gpg [833 B]\n",
            "Get:7 http://security.ubuntu.com/ubuntu bionic-security InRelease [88.7 kB]\n",
            "Hit:8 http://ppa.launchpad.net/graphics-drivers/ppa/ubuntu bionic InRelease\n",
            "Hit:9 http://archive.ubuntu.com/ubuntu bionic InRelease\n",
            "Get:10 http://archive.ubuntu.com/ubuntu bionic-updates InRelease [88.7 kB]\n",
            "Get:11 http://ppa.launchpad.net/marutter/c2d4u3.5/ubuntu bionic InRelease [15.4 kB]\n",
            "Get:13 https://developer.download.nvidia.com/compute/machine-learning/repos/ubuntu1804/x86_64  Packages [31.7 kB]\n",
            "Get:14 http://archive.ubuntu.com/ubuntu bionic-backports InRelease [74.6 kB]\n",
            "Get:15 http://ppa.launchpad.net/marutter/c2d4u3.5/ubuntu bionic/main Sources [1,789 kB]\n",
            "Get:16 http://security.ubuntu.com/ubuntu bionic-security/universe amd64 Packages [832 kB]\n",
            "Get:17 http://archive.ubuntu.com/ubuntu bionic-updates/universe amd64 Packages [1,362 kB]\n",
            "Get:18 http://security.ubuntu.com/ubuntu bionic-security/main amd64 Packages [861 kB]\n",
            "Get:19 http://security.ubuntu.com/ubuntu bionic-security/restricted amd64 Packages [35.2 kB]\n",
            "Get:20 http://archive.ubuntu.com/ubuntu bionic-updates/main amd64 Packages [1,155 kB]\n",
            "Get:21 http://archive.ubuntu.com/ubuntu bionic-updates/restricted amd64 Packages [48.7 kB]\n",
            "Get:22 http://archive.ubuntu.com/ubuntu bionic-backports/universe amd64 Packages [4,247 B]\n",
            "Get:23 http://ppa.launchpad.net/marutter/c2d4u3.5/ubuntu bionic/main amd64 Packages [863 kB]\n",
            "Fetched 7,254 kB in 4s (1,917 kB/s)\n",
            "Reading package lists... Done\n"
          ],
          "name": "stdout"
        }
      ]
    },
    {
      "cell_type": "code",
      "metadata": {
        "id": "cUSvIhXDO613",
        "colab_type": "code",
        "outputId": "cb2de0c3-c3fe-4200-8922-c879fe070765",
        "colab": {
          "base_uri": "https://localhost:8080/",
          "height": 34
        }
      },
      "source": [
        "!ls"
      ],
      "execution_count": 0,
      "outputs": [
        {
          "output_type": "stream",
          "text": [
            "gdrive\tsample_data  spark-2.4.5-bin-hadoop2.7\tspark-2.4.5-bin-hadoop2.7.tgz\n"
          ],
          "name": "stdout"
        }
      ]
    },
    {
      "cell_type": "markdown",
      "metadata": {
        "id": "S2zSCDcLRlxI",
        "colab_type": "text"
      },
      "source": [
        "Switch to Java 8 if it is Java 11 now"
      ]
    },
    {
      "cell_type": "code",
      "metadata": {
        "id": "UeIEwLesQjuJ",
        "colab_type": "code",
        "outputId": "9551a39e-7e44-41a2-b23a-2d0029afe837",
        "colab": {
          "base_uri": "https://localhost:8080/",
          "height": 188
        }
      },
      "source": [
        "!update-alternatives --config java"
      ],
      "execution_count": 0,
      "outputs": [
        {
          "output_type": "stream",
          "text": [
            "There are 2 choices for the alternative java (providing /usr/bin/java).\n",
            "\n",
            "  Selection    Path                                            Priority   Status\n",
            "------------------------------------------------------------\n",
            "* 0            /usr/lib/jvm/java-11-openjdk-amd64/bin/java      1111      auto mode\n",
            "  1            /usr/lib/jvm/java-11-openjdk-amd64/bin/java      1111      manual mode\n",
            "  2            /usr/lib/jvm/java-8-openjdk-amd64/jre/bin/java   1081      manual mode\n",
            "\n",
            "Press <enter> to keep the current choice[*], or type selection number: 2\n",
            "update-alternatives: using /usr/lib/jvm/java-8-openjdk-amd64/jre/bin/java to provide /usr/bin/java (java) in manual mode\n"
          ],
          "name": "stdout"
        }
      ]
    },
    {
      "cell_type": "markdown",
      "metadata": {
        "id": "IDM2kLSbR18O",
        "colab_type": "text"
      },
      "source": [
        "Double check if it is Java 8 now"
      ]
    },
    {
      "cell_type": "code",
      "metadata": {
        "id": "M3uLhoZZQ0pU",
        "colab_type": "code",
        "outputId": "697dd050-62d0-4d05-e2ac-553e40655603",
        "colab": {
          "base_uri": "https://localhost:8080/",
          "height": 68
        }
      },
      "source": [
        "!java -version "
      ],
      "execution_count": 0,
      "outputs": [
        {
          "output_type": "stream",
          "text": [
            "openjdk version \"1.8.0_242\"\n",
            "OpenJDK Runtime Environment (build 1.8.0_242-8u242-b08-0ubuntu3~18.04-b08)\n",
            "OpenJDK 64-Bit Server VM (build 25.242-b08, mixed mode)\n"
          ],
          "name": "stdout"
        }
      ]
    },
    {
      "cell_type": "markdown",
      "metadata": {
        "id": "KaxULuoMRtxd",
        "colab_type": "text"
      },
      "source": [
        "Set some environment variables"
      ]
    },
    {
      "cell_type": "code",
      "metadata": {
        "id": "uADy95nbQsCO",
        "colab_type": "code",
        "colab": {}
      },
      "source": [
        "import os\n",
        "os.environ[\"JAVA_HOME\"] = \"/usr/lib/jvm/java-8-openjdk-amd64\"\n",
        "os.environ[\"SPARK_HOME\"] = \"/content/spark-2.2.3-bin-hadoop2.7\""
      ],
      "execution_count": 0,
      "outputs": []
    },
    {
      "cell_type": "markdown",
      "metadata": {
        "id": "0DkhpOllIA7m",
        "colab_type": "text"
      },
      "source": [
        "## Spark DataFrame"
      ]
    },
    {
      "cell_type": "code",
      "metadata": {
        "id": "SsPbRNaQIOhA",
        "colab_type": "code",
        "colab": {}
      },
      "source": [
        "import findspark\n",
        "findspark.init(\"/content/spark-2.4.5-bin-hadoop2.7\")\n",
        "from pyspark.sql import SparkSession\n",
        "# Sets the Spark master URL to connect to, such as \"local\" to run locally, \n",
        "# \"local[4]\" to run locally with 4 cores, or \"spark://master:7077\" to run on a Spark standalone cluster.\n",
        "spark = SparkSession.builder.master(\"local[*]\").getOrCreate() #\n",
        "\n",
        "# another way using SparkConf\n",
        "# from pyspark.conf import SparkConf\n",
        "# from pyspark.context import SparkContext\n",
        "# from pyspark.sql import SparkSession\n",
        "# conf = SparkConf().setAppName(\"MLlib\")\n",
        "# sc = SparkContext(conf=conf)\n",
        "# sc.setLogLevel(\"WARN\")\n",
        "# spark = SparkSession(sc)"
      ],
      "execution_count": 0,
      "outputs": []
    },
    {
      "cell_type": "markdown",
      "metadata": {
        "id": "B7s18DRZ6eyB",
        "colab_type": "text"
      },
      "source": [
        "Reading Data"
      ]
    },
    {
      "cell_type": "code",
      "metadata": {
        "id": "WrCtqiIEP_4s",
        "colab_type": "code",
        "outputId": "041cfa8a-63a2-44ad-a708-9084f43d234b",
        "colab": {
          "base_uri": "https://localhost:8080/",
          "height": 171
        }
      },
      "source": [
        "payment_df = spark.read.format(\"csv\").option(\"header\", \"true\").load(r'/content/gdrive/My Drive/models/rental/payment.csv')\n",
        "payment_df = payment_df.alias('payment_df')\n",
        "payment_df.show(3)"
      ],
      "execution_count": 0,
      "outputs": [
        {
          "output_type": "stream",
          "text": [
            "+----------+-----------+--------+---------+------+-------------------+-------------------+\n",
            "|payment_id|customer_id|staff_id|rental_id|amount|       payment_date|        last_update|\n",
            "+----------+-----------+--------+---------+------+-------------------+-------------------+\n",
            "|         1|          1|       1|       76|  2.99|2005-05-25 11:30:37|2006-02-15 22:12:30|\n",
            "|         2|          1|       1|      573|  0.99|2005-05-28 10:35:23|2006-02-15 22:12:30|\n",
            "|         3|          1|       1|     1185|  5.99|2005-06-15 00:54:12|2006-02-15 22:12:30|\n",
            "+----------+-----------+--------+---------+------+-------------------+-------------------+\n",
            "only showing top 3 rows\n",
            "\n"
          ],
          "name": "stdout"
        }
      ]
    },
    {
      "cell_type": "code",
      "metadata": {
        "id": "40sDxcNg6rO5",
        "colab_type": "code",
        "outputId": "7521fc7c-97dd-4789-9599-f7af2d90f363",
        "colab": {
          "base_uri": "https://localhost:8080/",
          "height": 171
        }
      },
      "source": [
        "rental_df = spark.read.format(\"csv\").option(\"header\", \"true\").load(r'/content/gdrive/My Drive/models/rental/rental.csv')\n",
        "rental_df = rental_df.alias('rental_df')\n",
        "rental_df.show(3)"
      ],
      "execution_count": 0,
      "outputs": [
        {
          "output_type": "stream",
          "text": [
            "+---------+-------------------+------------+-----------+-------------------+--------+-------------------+\n",
            "|rental_id|        rental_date|inventory_id|customer_id|        return_date|staff_id|        last_update|\n",
            "+---------+-------------------+------------+-----------+-------------------+--------+-------------------+\n",
            "|        1|2005-05-24 22:53:30|         367|        130|2005-05-26 22:04:30|       1|2006-02-15 21:30:53|\n",
            "|        2|2005-05-24 22:54:33|        1525|        459|2005-05-28 19:40:33|       1|2006-02-15 21:30:53|\n",
            "|        3|2005-05-24 23:03:39|        1711|        408|2005-06-01 22:12:39|       1|2006-02-15 21:30:53|\n",
            "+---------+-------------------+------------+-----------+-------------------+--------+-------------------+\n",
            "only showing top 3 rows\n",
            "\n"
          ],
          "name": "stdout"
        }
      ]
    },
    {
      "cell_type": "code",
      "metadata": {
        "id": "WuQmbXPu7pR8",
        "colab_type": "code",
        "outputId": "f7f19826-a202-41bc-e62a-25896c3fded8",
        "colab": {
          "base_uri": "https://localhost:8080/",
          "height": 137
        }
      },
      "source": [
        "staff_df = spark.read.format(\"csv\").option(\"header\", \"true\").load(r'/content/gdrive/My Drive/models/rental/staff.csv')\n",
        "staff_df = staff_df.alias('staff_df')\n",
        "staff_df.show(3)"
      ],
      "execution_count": 0,
      "outputs": [
        {
          "output_type": "stream",
          "text": [
            "+--------+----------+---------+----------+-------+--------------------+--------+------+--------+--------------------+--------------+\n",
            "|staff_id|first_name|last_name|address_id|picture|               email|store_id|active|username|            password|   last_update|\n",
            "+--------+----------+---------+----------+-------+--------------------+--------+------+--------+--------------------+--------------+\n",
            "|       1|      Mike|  Hillyer|         3|   NULL|Mike.Hillyer@saki...|       1|     1|    Mike|8cb2237d0679ca88d...|2/15/2006 3:57|\n",
            "|       2|       Jon| Stephens|         4|   NULL|Jon.Stephens@saki...|       2|     1|     Jon|                NULL|2/15/2006 3:57|\n",
            "+--------+----------+---------+----------+-------+--------------------+--------+------+--------+--------------------+--------------+\n",
            "\n"
          ],
          "name": "stdout"
        }
      ]
    },
    {
      "cell_type": "code",
      "metadata": {
        "id": "4mgXSeTa8IfF",
        "colab_type": "code",
        "outputId": "98e09a3c-9f3d-4169-8eae-f23f9a99eba4",
        "colab": {
          "base_uri": "https://localhost:8080/",
          "height": 171
        }
      },
      "source": [
        "inventory_df = spark.read.format(\"csv\").option(\"header\", \"true\").load(r'/content/gdrive/My Drive/models/rental/inventory.csv')\n",
        "inventory_df = inventory_df.alias('inventory_df')\n",
        "inventory_df.show(3)"
      ],
      "execution_count": 0,
      "outputs": [
        {
          "output_type": "stream",
          "text": [
            "+------------+-------+--------+-------------------+\n",
            "|inventory_id|film_id|store_id|        last_update|\n",
            "+------------+-------+--------+-------------------+\n",
            "|           1|      1|       1|2006-02-15 05:09:17|\n",
            "|           2|      1|       1|2006-02-15 05:09:17|\n",
            "|           3|      1|       1|2006-02-15 05:09:17|\n",
            "+------------+-------+--------+-------------------+\n",
            "only showing top 3 rows\n",
            "\n"
          ],
          "name": "stdout"
        }
      ]
    },
    {
      "cell_type": "code",
      "metadata": {
        "id": "BvicDwctBjB5",
        "colab_type": "code",
        "outputId": "0d384ecd-5515-4d9c-9f29-3ed16af3914e",
        "colab": {
          "base_uri": "https://localhost:8080/",
          "height": 137
        }
      },
      "source": [
        "store_df = spark.read.format(\"csv\").option(\"header\", \"true\").load(r'/content/gdrive/My Drive/models/rental/store.csv')\n",
        "store_df = store_df.alias('store_df')\n",
        "store_df.show(3)"
      ],
      "execution_count": 0,
      "outputs": [
        {
          "output_type": "stream",
          "text": [
            "+--------+----------------+----------+-------------------+\n",
            "|store_id|manager_staff_id|address_id|        last_update|\n",
            "+--------+----------------+----------+-------------------+\n",
            "|       1|               1|         1|2006-02-15 04:57:12|\n",
            "|       2|               2|         2|2006-02-15 04:57:12|\n",
            "+--------+----------------+----------+-------------------+\n",
            "\n"
          ],
          "name": "stdout"
        }
      ]
    },
    {
      "cell_type": "code",
      "metadata": {
        "id": "8SQxoGM7Btw-",
        "colab_type": "code",
        "outputId": "2fbb6a66-f10f-4d1f-c278-fb067a248d10",
        "colab": {
          "base_uri": "https://localhost:8080/",
          "height": 171
        }
      },
      "source": [
        "address_df = spark.read.format(\"csv\").option(\"header\", \"true\").load(r'/content/gdrive/My Drive/models/rental/address.csv')\n",
        "address_df = address_df.alias('address_df')\n",
        "address_df.show(3)"
      ],
      "execution_count": 0,
      "outputs": [
        {
          "output_type": "stream",
          "text": [
            "+----------+------------------+--------+--------+-------+-----------+-----------+-------------------+\n",
            "|address_id|           address|address2|district|city_id|postal_code|      phone|        last_update|\n",
            "+----------+------------------+--------+--------+-------+-----------+-----------+-------------------+\n",
            "|         1| 47 MySakila Drive|    NULL| Alberta|    300|       null|       null|2014-09-25 22:30:27|\n",
            "|         2|28 MySQL Boulevard|    NULL|     QLD|    576|       null|       null|2014-09-25 22:30:09|\n",
            "|         3| 23 Workhaven Lane|    NULL| Alberta|    300|       null|14033335568|2014-09-25 22:30:27|\n",
            "+----------+------------------+--------+--------+-------+-----------+-----------+-------------------+\n",
            "only showing top 3 rows\n",
            "\n"
          ],
          "name": "stdout"
        }
      ]
    },
    {
      "cell_type": "code",
      "metadata": {
        "id": "U86kGHy6B1U4",
        "colab_type": "code",
        "outputId": "26998777-3841-4124-dd00-04d5d6488db0",
        "colab": {
          "base_uri": "https://localhost:8080/",
          "height": 171
        }
      },
      "source": [
        "customer_df = spark.read.format(\"csv\").option(\"header\", \"true\").load(r'/content/gdrive/My Drive/models/rental/customer.csv')\n",
        "customer_df = customer_df.alias('customer_df')\n",
        "customer_df.show(3)"
      ],
      "execution_count": 0,
      "outputs": [
        {
          "output_type": "stream",
          "text": [
            "+-----------+--------+----------+---------+--------------------+----------+------+-------------------+-------------------+\n",
            "|customer_id|store_id|first_name|last_name|               email|address_id|active|        create_date|        last_update|\n",
            "+-----------+--------+----------+---------+--------------------+----------+------+-------------------+-------------------+\n",
            "|          1|       1|      MARY|    SMITH|MARY.SMITH@sakila...|         5|     1|2006-02-14 22:04:36|2006-02-15 04:57:20|\n",
            "|          2|       1|  PATRICIA|  JOHNSON|PATRICIA.JOHNSON@...|         6|     1|2006-02-14 22:04:36|2006-02-15 04:57:20|\n",
            "|          3|       1|     LINDA| WILLIAMS|LINDA.WILLIAMS@sa...|         7|     1|2006-02-14 22:04:36|2006-02-15 04:57:20|\n",
            "+-----------+--------+----------+---------+--------------------+----------+------+-------------------+-------------------+\n",
            "only showing top 3 rows\n",
            "\n"
          ],
          "name": "stdout"
        }
      ]
    },
    {
      "cell_type": "code",
      "metadata": {
        "id": "NbHp9HVsCAWH",
        "colab_type": "code",
        "outputId": "ac0ae059-a923-449d-ebf4-b6c80579b04c",
        "colab": {
          "base_uri": "https://localhost:8080/",
          "height": 191
        }
      },
      "source": [
        "film_df = spark.read.format(\"csv\").option(\"header\", \"true\").load(r'/content/gdrive/My Drive/models/rental/film.csv')\n",
        "film_df = film_df.alias('film_df')\n",
        "film_df.show(3)"
      ],
      "execution_count": 0,
      "outputs": [
        {
          "output_type": "stream",
          "text": [
            "+-------+----------------+--------------------+------------+-----------+--------------------+---------------+-----------+------+----------------+------+--------------------+-------------------+\n",
            "|film_id|           title|         description|release_year|language_id|original_language_id|rental_duration|rental_rate|length|replacement_cost|rating|    special_features|        last_update|\n",
            "+-------+----------------+--------------------+------------+-----------+--------------------+---------------+-----------+------+----------------+------+--------------------+-------------------+\n",
            "|      1|ACADEMY DINOSAUR|A Epic Drama of a...|        2006|          1|                NULL|              6|       0.99|    86|           20.99|    PG|Deleted Scenes,Be...|2006-02-15 05:03:42|\n",
            "|      2|  ACE GOLDFINGER|A Astounding Epis...|        2006|          1|                NULL|              3|       4.99|    48|           12.99|     G|Trailers,Deleted ...|2006-02-15 05:03:42|\n",
            "|      3|ADAPTATION HOLES|A Astounding Refl...|        2006|          1|                NULL|              7|       2.99|    50|           18.99| NC-17|Trailers,Deleted ...|2006-02-15 05:03:42|\n",
            "+-------+----------------+--------------------+------------+-----------+--------------------+---------------+-----------+------+----------------+------+--------------------+-------------------+\n",
            "only showing top 3 rows\n",
            "\n"
          ],
          "name": "stdout"
        }
      ]
    },
    {
      "cell_type": "markdown",
      "metadata": {
        "id": "hGbo7EcC0ZcF",
        "colab_type": "text"
      },
      "source": [
        "Create a data frame based on the payment data frame. It contains a list of customer_id and total payment amount grouped by\n",
        "customer_id, sorted by the total amount in descending order. Other columns may be included as needed. "
      ]
    },
    {
      "cell_type": "code",
      "metadata": {
        "id": "BTGe2t32xGys",
        "colab_type": "code",
        "outputId": "332875ee-bf52-41b9-bc33-acb56ddf7ebc",
        "colab": {
          "base_uri": "https://localhost:8080/",
          "height": 171
        }
      },
      "source": [
        "cust_amount_df = payment_df.withColumn(\"amount\", payment_df[\"amount\"].cast(\"double\")).groupby('customer_id').sum().orderBy('sum(amount)',ascending = False)\n",
        "cust_amount_df.show(3)"
      ],
      "execution_count": 0,
      "outputs": [
        {
          "output_type": "stream",
          "text": [
            "+-----------+------------------+\n",
            "|customer_id|       sum(amount)|\n",
            "+-----------+------------------+\n",
            "|        526| 221.5500000000001|\n",
            "|        148| 216.5400000000001|\n",
            "|        144|195.58000000000007|\n",
            "+-----------+------------------+\n",
            "only showing top 3 rows\n",
            "\n"
          ],
          "name": "stdout"
        }
      ]
    },
    {
      "cell_type": "markdown",
      "metadata": {
        "id": "Fk_bpJnk0nF5",
        "colab_type": "text"
      },
      "source": [
        "Create a data frame based on the rental data frame. It contains a list of rentals from the rental data set that were rented in 2005 ordered on return_date in ascending order. Other columns may be included as needed. "
      ]
    },
    {
      "cell_type": "code",
      "metadata": {
        "id": "K-JzAlD20siK",
        "colab_type": "code",
        "outputId": "16ad68c1-92f9-4e43-d21c-78e886966650",
        "colab": {
          "base_uri": "https://localhost:8080/",
          "height": 171
        }
      },
      "source": [
        "rental_2005_df = rental_df.where(\"rental_date >= '2005-01-01 00:00:00' and rental_date <= '2005-12-31 11:59:59'\").orderBy('return_date',ascending = True)\n",
        "rental_2005_df.show(3)"
      ],
      "execution_count": 0,
      "outputs": [
        {
          "output_type": "stream",
          "text": [
            "+---------+-------------------+------------+-----------+-------------------+--------+-------------------+\n",
            "|rental_id|        rental_date|inventory_id|customer_id|        return_date|staff_id|        last_update|\n",
            "+---------+-------------------+------------+-----------+-------------------+--------+-------------------+\n",
            "|       32|2005-05-25 04:06:21|        3832|        230|2005-05-25 23:55:21|       1|2006-02-15 21:30:53|\n",
            "|       21|2005-05-25 01:59:46|         146|        388|2005-05-26 01:01:46|       2|2006-02-15 21:30:53|\n",
            "|       14|2005-05-25 00:31:15|        2701|        446|2005-05-26 02:56:15|       1|2006-02-15 21:30:53|\n",
            "+---------+-------------------+------------+-----------+-------------------+--------+-------------------+\n",
            "only showing top 3 rows\n",
            "\n"
          ],
          "name": "stdout"
        }
      ]
    },
    {
      "cell_type": "markdown",
      "metadata": {
        "id": "6LVvCZA07bEl",
        "colab_type": "text"
      },
      "source": [
        "Create a data frame based on rental data frame. It contains a list of rental_id count from rental data set grouped by staff_id. "
      ]
    },
    {
      "cell_type": "code",
      "metadata": {
        "id": "MeebkFt99ECr",
        "colab_type": "code",
        "outputId": "df833bf8-ea1a-4a3b-e14a-101fe1c83901",
        "colab": {
          "base_uri": "https://localhost:8080/",
          "height": 137
        }
      },
      "source": [
        "cust_amount_df = rental_df.groupby('staff_id').count()\n",
        "cust_amount_df.show(3)"
      ],
      "execution_count": 0,
      "outputs": [
        {
          "output_type": "stream",
          "text": [
            "+--------+-----+\n",
            "|staff_id|count|\n",
            "+--------+-----+\n",
            "|       1| 8040|\n",
            "|       2| 8004|\n",
            "+--------+-----+\n",
            "\n"
          ],
          "name": "stdout"
        }
      ]
    },
    {
      "cell_type": "markdown",
      "metadata": {
        "id": "n9RkooLF7gRG",
        "colab_type": "text"
      },
      "source": [
        "Now add staff first and last name."
      ]
    },
    {
      "cell_type": "code",
      "metadata": {
        "id": "TqOAiM_88y1B",
        "colab_type": "code",
        "outputId": "9c05d21a-a51c-491c-ef78-bb0285b0bb27",
        "colab": {
          "base_uri": "https://localhost:8080/",
          "height": 137
        }
      },
      "source": [
        "cust_amount_df = rental_df.groupby('staff_id').count().join(staff_df, rental_df.staff_id ==\n",
        "staff_df.staff_id,\"inner\").select('first_name', 'last_name','count')\n",
        "cust_amount_df.show(3)"
      ],
      "execution_count": 0,
      "outputs": [
        {
          "output_type": "stream",
          "text": [
            "+----------+---------+-----+\n",
            "|first_name|last_name|count|\n",
            "+----------+---------+-----+\n",
            "|      Mike|  Hillyer| 8040|\n",
            "|       Jon| Stephens| 8004|\n",
            "+----------+---------+-----+\n",
            "\n"
          ],
          "name": "stdout"
        }
      ]
    },
    {
      "cell_type": "markdown",
      "metadata": {
        "id": "NcZv3oh8Ap22",
        "colab_type": "text"
      },
      "source": [
        " Create a data frame based on rental data frame, joined with inventory, store, and address data frames to get store address, joined with customer data frame to get customer first and last name, joined with staff data frame to get customer first and last name, joined with film data set to get film name and description, and ordered by return_date in the ascending order. "
      ]
    },
    {
      "cell_type": "markdown",
      "metadata": {
        "id": "pNZvG9NGKVGn",
        "colab_type": "text"
      },
      "source": [
        "All columns "
      ]
    },
    {
      "cell_type": "code",
      "metadata": {
        "id": "gTxEnvvKCKRH",
        "colab_type": "code",
        "outputId": "64054db3-ef35-46ae-bccc-c7f385af5d83",
        "colab": {
          "base_uri": "https://localhost:8080/",
          "height": 191
        }
      },
      "source": [
        "combined_df = rental_df.join(inventory_df, rental_df.inventory_id == inventory_df.inventory_id).join(store_df, inventory_df.store_id == store_df.store_id) \\\n",
        ".join(address_df, store_df.address_id == address_df.address_id).join(customer_df, rental_df.customer_id == customer_df.customer_id) \\\n",
        ".join(staff_df, rental_df.staff_id == staff_df.staff_id).join(film_df, inventory_df.film_id == film_df.film_id).orderBy('return_date') \n",
        "combined_df.show(3)"
      ],
      "execution_count": 0,
      "outputs": [
        {
          "output_type": "stream",
          "text": [
            "+---------+-------------------+------------+-----------+-------------------+--------+-------------------+------------+-------+--------+-------------------+--------+----------------+----------+-------------------+----------+------------------+--------+--------+-------+-----------+-----+-------------------+-----------+--------+----------+---------+--------------------+----------+------+-------------------+-------------------+--------+----------+---------+----------+-------+--------------------+--------+------+--------+--------------------+--------------+-------+------------------+--------------------+------------+-----------+--------------------+---------------+-----------+------+----------------+------+--------------------+-------------------+\n",
            "|rental_id|        rental_date|inventory_id|customer_id|        return_date|staff_id|        last_update|inventory_id|film_id|store_id|        last_update|store_id|manager_staff_id|address_id|        last_update|address_id|           address|address2|district|city_id|postal_code|phone|        last_update|customer_id|store_id|first_name|last_name|               email|address_id|active|        create_date|        last_update|staff_id|first_name|last_name|address_id|picture|               email|store_id|active|username|            password|   last_update|film_id|             title|         description|release_year|language_id|original_language_id|rental_duration|rental_rate|length|replacement_cost|rating|    special_features|        last_update|\n",
            "+---------+-------------------+------------+-----------+-------------------+--------+-------------------+------------+-------+--------+-------------------+--------+----------------+----------+-------------------+----------+------------------+--------+--------+-------+-----------+-----+-------------------+-----------+--------+----------+---------+--------------------+----------+------+-------------------+-------------------+--------+----------+---------+----------+-------+--------------------+--------+------+--------+--------------------+--------------+-------+------------------+--------------------+------------+-----------+--------------------+---------------+-----------+------+----------------+------+--------------------+-------------------+\n",
            "|       32|2005-05-25 04:06:21|        3832|        230|2005-05-25 23:55:21|       1|2006-02-15 21:30:53|        3832|    839|       2|2006-02-15 05:09:17|       2|               2|         2|2006-02-15 04:57:12|         2|28 MySQL Boulevard|    NULL|     QLD|    576|       null| null|2014-09-25 22:30:09|        230|       2|       JOY|   GEORGE|JOY.GEORGE@sakila...|       234|     1|2006-02-14 22:04:36|2006-02-15 04:57:20|       1|      Mike|  Hillyer|         3|   NULL|Mike.Hillyer@saki...|       1|     1|    Mike|8cb2237d0679ca88d...|2/15/2006 3:57|    839| STALLION SUNDANCE|A Fast-Paced Tale...|        2006|          1|                NULL|              5|       0.99|   130|           23.99| PG-13|Deleted Scenes,Be...|2006-02-15 05:03:42|\n",
            "|       21|2005-05-25 01:59:46|         146|        388|2005-05-26 01:01:46|       2|2006-02-15 21:30:53|         146|     31|       1|2006-02-15 05:09:17|       1|               1|         1|2006-02-15 04:57:12|         1| 47 MySakila Drive|    NULL| Alberta|    300|       null| null|2014-09-25 22:30:27|        388|       2|     CRAIG|  MORRELL|CRAIG.MORRELL@sak...|       393|     1|2006-02-14 22:04:37|2006-02-15 04:57:20|       2|       Jon| Stephens|         4|   NULL|Jon.Stephens@saki...|       2|     1|     Jon|                NULL|2/15/2006 3:57|     31|     APACHE DIVINE|A Awe-Inspiring R...|        2006|          1|                NULL|              5|       4.99|    92|           16.99| NC-17|Commentaries,Dele...|2006-02-15 05:03:42|\n",
            "|       14|2005-05-25 00:31:15|        2701|        446|2005-05-26 02:56:15|       1|2006-02-15 21:30:53|        2701|    593|       2|2006-02-15 05:09:17|       2|               2|         2|2006-02-15 04:57:12|         2|28 MySQL Boulevard|    NULL|     QLD|    576|       null| null|2014-09-25 22:30:09|        446|       2|  THEODORE|     CULP|THEODORE.CULP@sak...|       451|     0|2006-02-14 22:04:37|2006-02-15 04:57:20|       1|      Mike|  Hillyer|         3|   NULL|Mike.Hillyer@saki...|       1|     1|    Mike|8cb2237d0679ca88d...|2/15/2006 3:57|    593|MONTEREY LABYRINTH|A Awe-Inspiring D...|        2006|          1|                NULL|              6|       0.99|   158|           13.99|     G|Trailers,Commenta...|2006-02-15 05:03:42|\n",
            "+---------+-------------------+------------+-----------+-------------------+--------+-------------------+------------+-------+--------+-------------------+--------+----------------+----------+-------------------+----------+------------------+--------+--------+-------+-----------+-----+-------------------+-----------+--------+----------+---------+--------------------+----------+------+-------------------+-------------------+--------+----------+---------+----------+-------+--------------------+--------+------+--------+--------------------+--------------+-------+------------------+--------------------+------------+-----------+--------------------+---------------+-----------+------+----------------+------+--------------------+-------------------+\n",
            "only showing top 3 rows\n",
            "\n"
          ],
          "name": "stdout"
        }
      ]
    },
    {
      "cell_type": "markdown",
      "metadata": {
        "id": "EIvauJ0RKYgu",
        "colab_type": "text"
      },
      "source": [
        "Selected columns"
      ]
    },
    {
      "cell_type": "code",
      "metadata": {
        "id": "Ko1G0gGLHfZD",
        "colab_type": "code",
        "outputId": "325b6745-5bc9-4755-cd20-b2621fa465b2",
        "colab": {
          "base_uri": "https://localhost:8080/",
          "height": 171
        }
      },
      "source": [
        "combined_df = rental_df.join(inventory_df, rental_df.inventory_id == inventory_df.inventory_id).join(store_df, inventory_df.store_id == store_df.store_id) \\\n",
        ".join(address_df, store_df.address_id == address_df.address_id).join(customer_df, rental_df.customer_id == customer_df.customer_id) \\\n",
        ".join(staff_df, rental_df.staff_id == staff_df.staff_id).join(film_df, inventory_df.film_id == film_df.film_id).orderBy('return_date') \\\n",
        ".select('rental_date','return_date','address','title', 'description','customer_df.first_name','customer_df.last_name', 'staff_df.first_name','staff_df.last_name') \n",
        "combined_df.show(3)"
      ],
      "execution_count": 0,
      "outputs": [
        {
          "output_type": "stream",
          "text": [
            "+-------------------+-------------------+------------------+------------------+--------------------+----------+---------+----------+---------+\n",
            "|        rental_date|        return_date|           address|             title|         description|first_name|last_name|first_name|last_name|\n",
            "+-------------------+-------------------+------------------+------------------+--------------------+----------+---------+----------+---------+\n",
            "|2005-05-25 04:06:21|2005-05-25 23:55:21|28 MySQL Boulevard| STALLION SUNDANCE|A Fast-Paced Tale...|       JOY|   GEORGE|      Mike|  Hillyer|\n",
            "|2005-05-25 01:59:46|2005-05-26 01:01:46| 47 MySakila Drive|     APACHE DIVINE|A Awe-Inspiring R...|     CRAIG|  MORRELL|       Jon| Stephens|\n",
            "|2005-05-25 00:31:15|2005-05-26 02:56:15|28 MySQL Boulevard|MONTEREY LABYRINTH|A Awe-Inspiring D...|  THEODORE|     CULP|      Mike|  Hillyer|\n",
            "+-------------------+-------------------+------------------+------------------+--------------------+----------+---------+----------+---------+\n",
            "only showing top 3 rows\n",
            "\n"
          ],
          "name": "stdout"
        }
      ]
    },
    {
      "cell_type": "markdown",
      "metadata": {
        "id": "wr2tZBPSK6Su",
        "colab_type": "text"
      },
      "source": [
        "Create a data frame that contains a list of customer_id whose sum amount of payment in 2005 is more than $200. "
      ]
    },
    {
      "cell_type": "code",
      "metadata": {
        "id": "6oklvZdxK5qO",
        "colab_type": "code",
        "outputId": "1b4921ec-d563-4201-e406-363848d0efd2",
        "colab": {
          "base_uri": "https://localhost:8080/",
          "height": 137
        }
      },
      "source": [
        "cust_sum_2005_200_df = payment_df.withColumn(\"amount\", payment_df[\"amount\"].cast(\"double\")).where(\"payment_date >= '2005-01-01 00:00:00' and payment_date <= '2005-12-31 11:59:59'\") \\\n",
        ".groupby('customer_id').sum('amount').where('sum(amount) > 200')\n",
        "cust_sum_2005_200_df.show()"
      ],
      "execution_count": 0,
      "outputs": [
        {
          "output_type": "stream",
          "text": [
            "+-----------+-----------------+\n",
            "|customer_id|      sum(amount)|\n",
            "+-----------+-----------------+\n",
            "|        526|221.5500000000001|\n",
            "|        148|216.5400000000001|\n",
            "+-----------+-----------------+\n",
            "\n"
          ],
          "name": "stdout"
        }
      ]
    },
    {
      "cell_type": "markdown",
      "metadata": {
        "id": "2gfNprcQNva8",
        "colab_type": "text"
      },
      "source": [
        "Join the result with customer dataframe  to get their names"
      ]
    },
    {
      "cell_type": "code",
      "metadata": {
        "id": "_Fgqagg3Np7N",
        "colab_type": "code",
        "outputId": "40a7d454-0954-4a17-80fd-bfb38b37de33",
        "colab": {
          "base_uri": "https://localhost:8080/",
          "height": 137
        }
      },
      "source": [
        "cust_sum_2005_200_df = cust_sum_2005_200_df.join(customer_df, cust_sum_2005_200_df.customer_id == customer_df.customer_id).select('first_name','last_name','sum(amount)')\n",
        "cust_sum_2005_200_df.show()"
      ],
      "execution_count": 0,
      "outputs": [
        {
          "output_type": "stream",
          "text": [
            "+----------+---------+-----------------+\n",
            "|first_name|last_name|      sum(amount)|\n",
            "+----------+---------+-----------------+\n",
            "|      KARL|     SEAL|221.5500000000001|\n",
            "|   ELEANOR|     HUNT|216.5400000000001|\n",
            "+----------+---------+-----------------+\n",
            "\n"
          ],
          "name": "stdout"
        }
      ]
    },
    {
      "cell_type": "markdown",
      "metadata": {
        "id": "XfjRTtdUPRyq",
        "colab_type": "text"
      },
      "source": [
        "Create a data frame that contains a list of customer_id that rented in 2005; Create another data frame that contains a list of customer_id that rented in 2006 (filter using rental_date). "
      ]
    },
    {
      "cell_type": "code",
      "metadata": {
        "id": "XEQQsvb4QJ3G",
        "colab_type": "code",
        "outputId": "3c6bd54a-f201-42ec-8f52-ef5dff728019",
        "colab": {
          "base_uri": "https://localhost:8080/",
          "height": 171
        }
      },
      "source": [
        "cust_2005_df = rental_df.where(\"rental_date >= '2005-01-01 00:00:00' and rental_date <= '2005-12-31 11:59:59'\")\n",
        "cust_2005_df.show(3)"
      ],
      "execution_count": 0,
      "outputs": [
        {
          "output_type": "stream",
          "text": [
            "+---------+-------------------+------------+-----------+-------------------+--------+-------------------+\n",
            "|rental_id|        rental_date|inventory_id|customer_id|        return_date|staff_id|        last_update|\n",
            "+---------+-------------------+------------+-----------+-------------------+--------+-------------------+\n",
            "|        1|2005-05-24 22:53:30|         367|        130|2005-05-26 22:04:30|       1|2006-02-15 21:30:53|\n",
            "|        2|2005-05-24 22:54:33|        1525|        459|2005-05-28 19:40:33|       1|2006-02-15 21:30:53|\n",
            "|        3|2005-05-24 23:03:39|        1711|        408|2005-06-01 22:12:39|       1|2006-02-15 21:30:53|\n",
            "+---------+-------------------+------------+-----------+-------------------+--------+-------------------+\n",
            "only showing top 3 rows\n",
            "\n"
          ],
          "name": "stdout"
        }
      ]
    },
    {
      "cell_type": "code",
      "metadata": {
        "id": "otB_UesgQvHS",
        "colab_type": "code",
        "outputId": "250bb6a1-af1d-4969-e1d6-5ac1463fd684",
        "colab": {
          "base_uri": "https://localhost:8080/",
          "height": 171
        }
      },
      "source": [
        "cust_2006_df = rental_df.where(\"rental_date >= '2006-01-01 00:00:00' and rental_date <= '2006-12-31 11:59:59'\")\n",
        "cust_2006_df.show(3)"
      ],
      "execution_count": 0,
      "outputs": [
        {
          "output_type": "stream",
          "text": [
            "+---------+-------------------+------------+-----------+-----------+--------+-------------------+\n",
            "|rental_id|        rental_date|inventory_id|customer_id|return_date|staff_id|        last_update|\n",
            "+---------+-------------------+------------+-----------+-----------+--------+-------------------+\n",
            "|    11496|2006-02-14 15:16:03|        2047|        155|       NULL|       1|2006-02-15 21:30:53|\n",
            "|    11541|2006-02-14 15:16:03|        2026|        335|       NULL|       1|2006-02-15 21:30:53|\n",
            "|    11563|2006-02-14 15:16:03|        1545|         83|       NULL|       1|2006-02-15 21:30:53|\n",
            "+---------+-------------------+------------+-----------+-----------+--------+-------------------+\n",
            "only showing top 3 rows\n",
            "\n"
          ],
          "name": "stdout"
        }
      ]
    },
    {
      "cell_type": "markdown",
      "metadata": {
        "id": "8sEWxqnLQ4jD",
        "colab_type": "text"
      },
      "source": [
        "Now create a data frame of customer_id that exist in the 2005 data frame but not in the 2006 data frame. "
      ]
    },
    {
      "cell_type": "code",
      "metadata": {
        "id": "JOPcYxyrQ3P7",
        "colab_type": "code",
        "outputId": "09b9b738-dbe1-4d74-8050-e51e7295c2ca",
        "colab": {
          "base_uri": "https://localhost:8080/",
          "height": 34
        }
      },
      "source": [
        "cust_2005_not_2006_df = cust_2005_df.select('customer_id').subtract(cust_2006_df.select('customer_id'))\n",
        "cust_2005_not_2006_df.distinct().count()"
      ],
      "execution_count": 0,
      "outputs": [
        {
          "output_type": "execute_result",
          "data": {
            "text/plain": [
              "441"
            ]
          },
          "metadata": {
            "tags": []
          },
          "execution_count": 27
        }
      ]
    },
    {
      "cell_type": "markdown",
      "metadata": {
        "id": "tu3HuaIrWI0U",
        "colab_type": "text"
      },
      "source": [
        "Now create a data frame of customer_id that exist in the\n",
        "2006 data frame but not in the 2005 data frame"
      ]
    },
    {
      "cell_type": "code",
      "metadata": {
        "id": "xNwKpebFRCHe",
        "colab_type": "code",
        "outputId": "8f571340-bd05-474d-ddc2-988022aaa31c",
        "colab": {
          "base_uri": "https://localhost:8080/",
          "height": 103
        }
      },
      "source": [
        "cust_2006_not_2005_df = cust_2006_df.select('customer_id').subtract(cust_2005_df.select('customer_id'))\n",
        "cust_2006_not_2005_df.distinct().show()"
      ],
      "execution_count": 0,
      "outputs": [
        {
          "output_type": "stream",
          "text": [
            "+-----------+\n",
            "|customer_id|\n",
            "+-----------+\n",
            "+-----------+\n",
            "\n"
          ],
          "name": "stdout"
        }
      ]
    }
  ]
}